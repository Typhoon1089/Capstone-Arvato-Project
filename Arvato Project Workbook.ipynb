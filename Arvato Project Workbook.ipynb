{
 "cells": [
  {
   "cell_type": "markdown",
   "metadata": {},
   "source": [
    "# Capstone Project: Create a Customer Segmentation Report for Arvato Financial Services\n",
    "\n",
    "In this project, you will analyze demographics data for customers of a mail-order sales company in Germany, comparing it against demographics information for the general population. You'll use unsupervised learning techniques to perform customer segmentation, identifying the parts of the population that best describe the core customer base of the company. Then, you'll apply what you've learned on a third dataset with demographics information for targets of a marketing campaign for the company, and use a model to predict which individuals are most likely to convert into becoming customers for the company. The data that you will use has been provided by our partners at Bertelsmann Arvato Analytics, and represents a real-life data science task.\n",
    "\n",
    "If you completed the first term of this program, you will be familiar with the first part of this project, from the unsupervised learning project. The versions of those two datasets used in this project will include many more features and has not been pre-cleaned. You are also free to choose whatever approach you'd like to analyzing the data rather than follow pre-determined steps. In your work on this project, make sure that you carefully document your steps and decisions, since your main deliverable for this project will be a blog post reporting your findings."
   ]
  },
  {
   "cell_type": "code",
   "execution_count": 1,
   "metadata": {},
   "outputs": [],
   "source": [
    "# install additional library if necessary\n",
    "# %conda install -c conda-forge lightgbm progressbar py-xgboost -y"
   ]
  },
  {
   "cell_type": "code",
   "execution_count": 2,
   "metadata": {},
   "outputs": [],
   "source": [
    "# import libraries here; add more as necessary\n",
    "import numpy as np\n",
    "import pandas as pd\n",
    "import matplotlib.pyplot as plt\n",
    "import seaborn as sns\n",
    "import math\n",
    "import progressbar\n",
    "\n",
    "# magic word for producing visualizations in notebook\n",
    "%matplotlib inline"
   ]
  },
  {
   "cell_type": "markdown",
   "metadata": {},
   "source": [
    "## Part 0: Get to Know the Data\n",
    "\n",
    "There are four data files associated with this project:\n",
    "\n",
    "- `Udacity_AZDIAS_052018.csv`: Demographics data for the general population of Germany; 891 211 persons (rows) x 366 features (columns).\n",
    "- `Udacity_CUSTOMERS_052018.csv`: Demographics data for customers of a mail-order company; 191 652 persons (rows) x 369 features (columns).\n",
    "- `Udacity_MAILOUT_052018_TRAIN.csv`: Demographics data for individuals who were targets of a marketing campaign; 42 982 persons (rows) x 367 (columns).\n",
    "- `Udacity_MAILOUT_052018_TEST.csv`: Demographics data for individuals who were targets of a marketing campaign; 42 833 persons (rows) x 366 (columns).\n",
    "\n",
    "Each row of the demographics files represents a single person, but also includes information outside of individuals, including information about their household, building, and neighborhood. Use the information from the first two files to figure out how customers (\"CUSTOMERS\") are similar to or differ from the general population at large (\"AZDIAS\"), then use your analysis to make predictions on the other two files (\"MAILOUT\"), predicting which recipients are most likely to become a customer for the mail-order company.\n",
    "\n",
    "The \"CUSTOMERS\" file contains three extra columns ('CUSTOMER_GROUP', 'ONLINE_PURCHASE', and 'PRODUCT_GROUP'), which provide broad information about the customers depicted in the file. The original \"MAILOUT\" file included one additional column, \"RESPONSE\", which indicated whether or not each recipient became a customer of the company. For the \"TRAIN\" subset, this column has been retained, but in the \"TEST\" subset it has been removed; it is against that withheld column that your final predictions will be assessed in the Kaggle competition.\n",
    "\n",
    "Otherwise, all of the remaining columns are the same between the three data files. For more information about the columns depicted in the files, you can refer to two Excel spreadsheets provided in the workspace. [One of them](./DIAS Information Levels - Attributes 2017.xlsx) is a top-level list of attributes and descriptions, organized by informational category. [The other](./DIAS Attributes - Values 2017.xlsx) is a detailed mapping of data values for each feature in alphabetical order.\n",
    "\n",
    "In the below cell, we've provided some initial code to load in the first two datasets. Note for all of the `.csv` data files in this project that they're semicolon (`;`) delimited, so an additional argument in the [`read_csv()`](https://pandas.pydata.org/pandas-docs/stable/generated/pandas.read_csv.html) call has been included to read in the data properly. Also, considering the size of the datasets, it may take some time for them to load completely.\n",
    "\n",
    "You'll notice when the data is loaded in that a warning message will immediately pop up. Before you really start digging into the modeling and analysis, you're going to need to perform some cleaning. Take some time to browse the structure of the data and look over the informational spreadsheets to understand the data values. Make some decisions on which features to keep, which features to drop, and if any revisions need to be made on data formats. It'll be a good idea to create a function with pre-processing steps, since you'll need to clean all of the datasets before you work with them."
   ]
  },
  {
   "cell_type": "code",
   "execution_count": 3,
   "metadata": {},
   "outputs": [
    {
     "name": "stdout",
     "output_type": "stream",
     "text": [
      "Shape of azdias:  (891221, 366)\n",
      "CPU times: user 11.7 s, sys: 1.15 s, total: 12.9 s\n",
      "Wall time: 13.6 s\n"
     ]
    },
    {
     "data": {
      "text/html": [
       "<div>\n",
       "<style scoped>\n",
       "    .dataframe tbody tr th:only-of-type {\n",
       "        vertical-align: middle;\n",
       "    }\n",
       "\n",
       "    .dataframe tbody tr th {\n",
       "        vertical-align: top;\n",
       "    }\n",
       "\n",
       "    .dataframe thead th {\n",
       "        text-align: right;\n",
       "    }\n",
       "</style>\n",
       "<table border=\"1\" class=\"dataframe\">\n",
       "  <thead>\n",
       "    <tr style=\"text-align: right;\">\n",
       "      <th></th>\n",
       "      <th>LNR</th>\n",
       "      <th>AGER_TYP</th>\n",
       "      <th>AKT_DAT_KL</th>\n",
       "      <th>ALTER_HH</th>\n",
       "      <th>ALTER_KIND1</th>\n",
       "      <th>ALTER_KIND2</th>\n",
       "      <th>ALTER_KIND3</th>\n",
       "      <th>ALTER_KIND4</th>\n",
       "      <th>ALTERSKATEGORIE_FEIN</th>\n",
       "      <th>ANZ_HAUSHALTE_AKTIV</th>\n",
       "      <th>...</th>\n",
       "      <th>VHN</th>\n",
       "      <th>VK_DHT4A</th>\n",
       "      <th>VK_DISTANZ</th>\n",
       "      <th>VK_ZG11</th>\n",
       "      <th>W_KEIT_KIND_HH</th>\n",
       "      <th>WOHNDAUER_2008</th>\n",
       "      <th>WOHNLAGE</th>\n",
       "      <th>ZABEOTYP</th>\n",
       "      <th>ANREDE_KZ</th>\n",
       "      <th>ALTERSKATEGORIE_GROB</th>\n",
       "    </tr>\n",
       "  </thead>\n",
       "  <tbody>\n",
       "    <tr>\n",
       "      <th>0</th>\n",
       "      <td>910215</td>\n",
       "      <td>-1</td>\n",
       "      <td>NaN</td>\n",
       "      <td>NaN</td>\n",
       "      <td>NaN</td>\n",
       "      <td>NaN</td>\n",
       "      <td>NaN</td>\n",
       "      <td>NaN</td>\n",
       "      <td>NaN</td>\n",
       "      <td>NaN</td>\n",
       "      <td>...</td>\n",
       "      <td>NaN</td>\n",
       "      <td>NaN</td>\n",
       "      <td>NaN</td>\n",
       "      <td>NaN</td>\n",
       "      <td>NaN</td>\n",
       "      <td>NaN</td>\n",
       "      <td>NaN</td>\n",
       "      <td>3</td>\n",
       "      <td>1</td>\n",
       "      <td>2</td>\n",
       "    </tr>\n",
       "    <tr>\n",
       "      <th>1</th>\n",
       "      <td>910220</td>\n",
       "      <td>-1</td>\n",
       "      <td>9.0</td>\n",
       "      <td>0.0</td>\n",
       "      <td>NaN</td>\n",
       "      <td>NaN</td>\n",
       "      <td>NaN</td>\n",
       "      <td>NaN</td>\n",
       "      <td>21.0</td>\n",
       "      <td>11.0</td>\n",
       "      <td>...</td>\n",
       "      <td>4.0</td>\n",
       "      <td>8.0</td>\n",
       "      <td>11.0</td>\n",
       "      <td>10.0</td>\n",
       "      <td>3.0</td>\n",
       "      <td>9.0</td>\n",
       "      <td>4.0</td>\n",
       "      <td>5</td>\n",
       "      <td>2</td>\n",
       "      <td>1</td>\n",
       "    </tr>\n",
       "    <tr>\n",
       "      <th>2</th>\n",
       "      <td>910225</td>\n",
       "      <td>-1</td>\n",
       "      <td>9.0</td>\n",
       "      <td>17.0</td>\n",
       "      <td>NaN</td>\n",
       "      <td>NaN</td>\n",
       "      <td>NaN</td>\n",
       "      <td>NaN</td>\n",
       "      <td>17.0</td>\n",
       "      <td>10.0</td>\n",
       "      <td>...</td>\n",
       "      <td>2.0</td>\n",
       "      <td>9.0</td>\n",
       "      <td>9.0</td>\n",
       "      <td>6.0</td>\n",
       "      <td>3.0</td>\n",
       "      <td>9.0</td>\n",
       "      <td>2.0</td>\n",
       "      <td>5</td>\n",
       "      <td>2</td>\n",
       "      <td>3</td>\n",
       "    </tr>\n",
       "    <tr>\n",
       "      <th>3</th>\n",
       "      <td>910226</td>\n",
       "      <td>2</td>\n",
       "      <td>1.0</td>\n",
       "      <td>13.0</td>\n",
       "      <td>NaN</td>\n",
       "      <td>NaN</td>\n",
       "      <td>NaN</td>\n",
       "      <td>NaN</td>\n",
       "      <td>13.0</td>\n",
       "      <td>1.0</td>\n",
       "      <td>...</td>\n",
       "      <td>0.0</td>\n",
       "      <td>7.0</td>\n",
       "      <td>10.0</td>\n",
       "      <td>11.0</td>\n",
       "      <td>NaN</td>\n",
       "      <td>9.0</td>\n",
       "      <td>7.0</td>\n",
       "      <td>3</td>\n",
       "      <td>2</td>\n",
       "      <td>4</td>\n",
       "    </tr>\n",
       "    <tr>\n",
       "      <th>4</th>\n",
       "      <td>910241</td>\n",
       "      <td>-1</td>\n",
       "      <td>1.0</td>\n",
       "      <td>20.0</td>\n",
       "      <td>NaN</td>\n",
       "      <td>NaN</td>\n",
       "      <td>NaN</td>\n",
       "      <td>NaN</td>\n",
       "      <td>14.0</td>\n",
       "      <td>3.0</td>\n",
       "      <td>...</td>\n",
       "      <td>2.0</td>\n",
       "      <td>3.0</td>\n",
       "      <td>5.0</td>\n",
       "      <td>4.0</td>\n",
       "      <td>2.0</td>\n",
       "      <td>9.0</td>\n",
       "      <td>3.0</td>\n",
       "      <td>4</td>\n",
       "      <td>1</td>\n",
       "      <td>3</td>\n",
       "    </tr>\n",
       "  </tbody>\n",
       "</table>\n",
       "<p>5 rows × 366 columns</p>\n",
       "</div>"
      ],
      "text/plain": [
       "      LNR  AGER_TYP  AKT_DAT_KL  ALTER_HH  ALTER_KIND1  ALTER_KIND2  \\\n",
       "0  910215        -1         NaN       NaN          NaN          NaN   \n",
       "1  910220        -1         9.0       0.0          NaN          NaN   \n",
       "2  910225        -1         9.0      17.0          NaN          NaN   \n",
       "3  910226         2         1.0      13.0          NaN          NaN   \n",
       "4  910241        -1         1.0      20.0          NaN          NaN   \n",
       "\n",
       "   ALTER_KIND3  ALTER_KIND4  ALTERSKATEGORIE_FEIN  ANZ_HAUSHALTE_AKTIV  ...  \\\n",
       "0          NaN          NaN                   NaN                  NaN  ...   \n",
       "1          NaN          NaN                  21.0                 11.0  ...   \n",
       "2          NaN          NaN                  17.0                 10.0  ...   \n",
       "3          NaN          NaN                  13.0                  1.0  ...   \n",
       "4          NaN          NaN                  14.0                  3.0  ...   \n",
       "\n",
       "   VHN  VK_DHT4A  VK_DISTANZ  VK_ZG11  W_KEIT_KIND_HH  WOHNDAUER_2008  \\\n",
       "0  NaN       NaN         NaN      NaN             NaN             NaN   \n",
       "1  4.0       8.0        11.0     10.0             3.0             9.0   \n",
       "2  2.0       9.0         9.0      6.0             3.0             9.0   \n",
       "3  0.0       7.0        10.0     11.0             NaN             9.0   \n",
       "4  2.0       3.0         5.0      4.0             2.0             9.0   \n",
       "\n",
       "   WOHNLAGE ZABEOTYP ANREDE_KZ ALTERSKATEGORIE_GROB  \n",
       "0       NaN        3         1                    2  \n",
       "1       4.0        5         2                    1  \n",
       "2       2.0        5         2                    3  \n",
       "3       7.0        3         2                    4  \n",
       "4       3.0        4         1                    3  \n",
       "\n",
       "[5 rows x 366 columns]"
      ]
     },
     "execution_count": 3,
     "metadata": {},
     "output_type": "execute_result"
    }
   ],
   "source": [
    "%%time\n",
    "\n",
    "# load in the Azdias dataset\n",
    "# finding 1: there are mixed data in column 18 and 19\n",
    "azdias = pd.read_csv('data/Udacity_AZDIAS_052018.csv', sep=';', dtype={18:'str', 19:'str'})\n",
    "\n",
    "print('Shape of azdias: ', azdias.shape)\n",
    "azdias.head()"
   ]
  },
  {
   "cell_type": "markdown",
   "metadata": {},
   "source": [
    "## 0.1 Correct attributes' names"
   ]
  },
  {
   "cell_type": "code",
   "execution_count": 4,
   "metadata": {},
   "outputs": [],
   "source": [
    "# load azdias value metadata. Note that the file format was converted from xlsx to csv\n",
    "values = pd.read_csv(\"./data/DIAS_Attributes_Values_2017.csv\", sep=',')"
   ]
  },
  {
   "cell_type": "code",
   "execution_count": 5,
   "metadata": {},
   "outputs": [
    {
     "name": "stdout",
     "output_type": "stream",
     "text": [
      "Number of unclear attributes in Azdias: 94\n",
      "{'KBA13_BAUMAX', 'ANZ_STATISTISCHE_HAUSHALTE', 'CJT_TYP_3', 'VK_DHT4A', 'D19_DIGIT_SERV', 'D19_BEKLEIDUNG_REST', 'RT_KEIN_ANREIZ', 'D19_BANKEN_DIREKT', 'KOMBIALTER', 'D19_SOZIALES', 'D19_SAMMELARTIKEL', 'UMFELD_JUNG', 'D19_HANDWERK', 'MOBI_RASTER', 'UNGLEICHENN_FLAG', 'D19_REISEN', 'KBA13_ANTG2', 'D19_RATGEBER', 'CJT_TYP_4', 'CJT_TYP_2', 'D19_FREIZEIT', 'AKT_DAT_KL', 'KBA13_GBZ', 'ALTER_KIND1', 'D19_VERSAND_REST', 'D19_VERSICHERUNGEN', 'D19_TELKO_MOBILE', 'D19_VERSI_DATUM', 'VHA', 'ALTER_KIND4', 'KBA13_ANTG1', 'D19_HAUS_DEKO', 'D19_WEIN_FEINKOST', 'CJT_TYP_6', 'EXTSEL992', 'KONSUMZELLE', 'DSL_FLAG', 'ALTERSKATEGORIE_FEIN', 'EINGEFUEGT_AM', 'D19_SCHUHE', 'D19_BANKEN_GROSS', 'D19_BUCH_CD', 'D19_BANKEN_REST', 'EINGEZOGENAM_HH_JAHR', 'KBA13_HHZ', 'HH_DELTA_FLAG', 'D19_TELKO_ONLINE_QUOTE_12', 'RT_SCHNAEPPCHEN', 'CJT_KATALOGNUTZER', 'D19_VOLLSORTIMENT', 'ARBEIT', 'VERDICHTUNGSRAUM', 'D19_TECHNIK', 'D19_BEKLEIDUNG_GEH', 'CJT_TYP_5', 'ALTER_KIND3', 'ANZ_KINDER', 'D19_DROGERIEARTIKEL', 'ALTER_KIND2', 'UMFELD_ALT', 'FIRMENDICHTE', 'KBA13_CCM_1401_2500', 'D19_SONSTIGE', 'GEMEINDETYP', 'CAMEO_INTL_2015', 'D19_KONSUMTYP_MAX', 'D19_LOTTO', 'LNR', 'D19_TELKO_REST', 'KBA13_KMH_210', 'D19_BANKEN_LOKAL', 'RT_UEBERGROESSE', 'D19_KOSMETIK', 'SOHO_KZ', 'D19_KINDERARTIKEL', 'STRUKTURTYP', 'D19_BIO_OEKO', 'D19_VERSI_OFFLINE_DATUM', 'D19_VERSI_ONLINE_DATUM', 'CJT_TYP_1', 'VK_DISTANZ', 'VK_ZG11', 'D19_ENERGIE', 'KK_KUNDENTYP', 'D19_LEBENSMITTEL', 'VHN', 'D19_GARTEN', 'D19_BILDUNG', 'D19_VERSI_ONLINE_QUOTE_12', 'KBA13_ANTG4', 'KBA13_ANTG3', 'D19_NAHRUNGSERGAENZUNG', 'D19_TIERARTIKEL', 'D19_LETZTER_KAUF_BRANCHE'}\n",
      "\n",
      "Number of attributes NOT in Azdias (but have metadata info): 42\n",
      "{'D19_NAHRUNGSERGAENZUNG_RZ', 'D19_SONSTIGE_RZ', 'D19_BANKEN_DIREKT_RZ', 'D19_ENERGIE_RZ', 'GEOSCORE_KLS7', 'BIP_FLAG', 'D19_VOLLSORTIMENT_RZ', 'D19_KINDERARTIKEL_RZ', 'D19_VERSICHERUNGEN_RZ', 'D19_TELKO_REST_RZ', 'D19_DIGIT_SERV_RZ', 'WACHSTUMSGEBIET_NB', 'D19_HAUS_DEKO_RZ', 'D19_TECHNIK_RZ', 'KBA13_CCM_1400_2500', 'D19_BUCH_RZ', 'D19_KK_KUNDENTYP', 'D19_BANKEN_REST_RZ', 'D19_TIERARTIKEL_RZ', 'D19_BILDUNG_RZ', 'D19_HANDWERK_RZ', 'D19_VERSAND_REST_RZ', 'D19_WEIN_FEINKOST_RZ', 'HAUSHALTSSTRUKTUR', 'SOHO_FLAG', 'D19_REISEN_RZ', 'D19_BANKEN_LOKAL_RZ', 'D19_GARTEN_RZ', 'D19_DROGERIEARTIKEL_RZ', 'D19_BEKLEIDUNG_REST_RZ', 'CAMEO_DEUINTL_2015', 'D19_BANKEN_GROSS_RZ', 'D19_BEKLEIDUNG_GEH_RZ', 'D19_RATGEBER_RZ', 'D19_BIO_OEKO_RZ', 'D19_LEBENSMITTEL_RZ', 'D19_SAMMELARTIKEL_RZ', 'D19_FREIZEIT_RZ', 'D19_KOSMETIK_RZ', 'D19_LOTTO_RZ', 'D19_TELKO_MOBILE_RZ', 'D19_SCHUHE_RZ'}\n"
     ]
    }
   ],
   "source": [
    "# finding 2: some attributes in the Azdias dataset do have their metadata\n",
    "def get_unclear_attributes(azdias, values, display=False):\n",
    "    unclear_attr = set(azdias.columns.values).difference(values['Attribute'])\n",
    "    print(\"Number of unclear attributes in Azdias: {}\".format(len(unclear_attr)))\n",
    "    if display:\n",
    "        print(unclear_attr)\n",
    "        \n",
    "    _attr = set(values['Attribute']).difference(azdias.columns.values)\n",
    "    print(\"\\nNumber of attributes NOT in Azdias (but have metadata info): {}\".format(len(_attr)))\n",
    "    if display:\n",
    "        print(_attr)\n",
    "    \n",
    "    return unclear_attr\n",
    "\n",
    "unclear_attr = get_unclear_attributes(azdias, values, display=True)"
   ]
  },
  {
   "cell_type": "code",
   "execution_count": 6,
   "metadata": {},
   "outputs": [
    {
     "name": "stdout",
     "output_type": "stream",
     "text": [
      "Number of re-assigned attributes: 33\n",
      "\n",
      "Number of unclear attributes in Azdias: 61\n",
      "{'KBA13_BAUMAX', 'ANZ_STATISTISCHE_HAUSHALTE', 'HH_DELTA_FLAG', 'CJT_TYP_3', 'RT_SCHNAEPPCHEN', 'CJT_KATALOGNUTZER', 'VK_DHT4A', 'D19_TELKO_ONLINE_QUOTE_12', 'VERDICHTUNGSRAUM', 'ARBEIT', 'RT_KEIN_ANREIZ', 'KOMBIALTER', 'CJT_TYP_5', 'D19_SOZIALES', 'ALTER_KIND3', 'ANZ_KINDER', 'ALTER_KIND2', 'UMFELD_JUNG', 'MOBI_RASTER', 'UMFELD_ALT', 'FIRMENDICHTE', 'KBA13_CCM_1401_2500', 'UNGLEICHENN_FLAG', 'GEMEINDETYP', 'CAMEO_INTL_2015', 'D19_KONSUMTYP_MAX', 'KBA13_ANTG2', 'CJT_TYP_4', 'LNR', 'KBA13_KMH_210', 'RT_UEBERGROESSE', 'SOHO_KZ', 'CJT_TYP_2', 'AKT_DAT_KL', 'KBA13_GBZ', 'ALTER_KIND1', 'STRUKTURTYP', 'D19_VERSI_OFFLINE_DATUM', 'D19_VERSI_ONLINE_DATUM', 'CJT_TYP_1', 'VK_DISTANZ', 'D19_VERSI_DATUM', 'VK_ZG11', 'VHA', 'ALTER_KIND4', 'KBA13_ANTG1', 'KK_KUNDENTYP', 'VHN', 'CJT_TYP_6', 'EXTSEL992', 'KONSUMZELLE', 'DSL_FLAG', 'ALTERSKATEGORIE_FEIN', 'D19_VERSI_ONLINE_QUOTE_12', 'KBA13_ANTG4', 'EINGEFUEGT_AM', 'KBA13_ANTG3', 'D19_BUCH_CD', 'D19_LETZTER_KAUF_BRANCHE', 'EINGEZOGENAM_HH_JAHR', 'KBA13_HHZ'}\n",
      "\n",
      "Number of attributes NOT in Azdias (but have metadata info): 9\n",
      "{'CAMEO_DEUINTL_2015', 'GEOSCORE_KLS7', 'KBA13_CCM_1400_2500', 'D19_BUCH_RZ', 'BIP_FLAG', 'HAUSHALTSSTRUKTUR', 'D19_KK_KUNDENTYP', 'SOHO_FLAG', 'WACHSTUMSGEBIET_NB'}\n"
     ]
    }
   ],
   "source": [
    "# some attributes have similar name, for example D19_BEKLEIDUNG_GEH and D19_BEKLEIDUNG_GEH_RZ\n",
    "# we guess that they are correct name of attribute\n",
    "_attrs = set(values['Attribute']).difference(azdias.columns.values)\n",
    "_attrs = map(lambda x: x.replace(\"_RZ\",\"\"), _attrs)\n",
    "\n",
    "rz_attr = unclear_attr.intersection(_attrs)\n",
    "print(\"Number of re-assigned attributes: {}\\n\".format(len(rz_attr)))\n",
    "\n",
    "# modify azdias value metadata\n",
    "rz_attr_with_RZ = list(map(lambda x: x + \"_RZ\", rz_attr))\n",
    "values['Attribute'] = values['Attribute'].apply(lambda x: x.replace(\"_RZ\",\"\") if x in rz_attr_with_RZ else x)\n",
    "\n",
    "# re-compute unclear_attr\n",
    "unclear_attr = get_unclear_attributes(azdias, values, display=True)"
   ]
  },
  {
   "cell_type": "markdown",
   "metadata": {},
   "source": [
    "## 0.2 Handle Unknown value"
   ]
  },
  {
   "cell_type": "markdown",
   "metadata": {},
   "source": [
    "Ideally, the dataset should not contain unknown values because those values damage the clustering process. However, it is difficult to collect such datasets since it may contain sensitive information. In the Azdias dataset, an unknown value can be:\n",
    "* np.NaN in the dataset\n",
    "* unknown value listed in the Azdias value metadata\n",
    "* not given (e.g., a value of 0 not described in the metadata but exist in the dataset)"
   ]
  },
  {
   "cell_type": "markdown",
   "metadata": {},
   "source": [
    "### 0.2.1 Get unknown values"
   ]
  },
  {
   "cell_type": "code",
   "execution_count": 7,
   "metadata": {},
   "outputs": [],
   "source": [
    "def create_unknown_value_dict(azdias, values, unclear_attr):\n",
    "    '''\n",
    "    Create the dictionary of attributes with values being an array of unknown values\n",
    "    '''\n",
    "    \n",
    "    dictionary = {}\n",
    "    for key in set(values['Attribute']):\n",
    "        dictionary[key] = []\n",
    "        \n",
    "    # given the defined attributes, get the Unknown value\n",
    "    unknown_value = values[values['Meaning'].isin([\"unknown\",\"unknown / no main age detectable\",\n",
    "                                                   \"no transactions known\", \"no transaction known\"])]\n",
    "    for _, row in unknown_value.iterrows():\n",
    "        key = row['Attribute']\n",
    "        dictionary[key] = [x.strip() for x in row['Value'].split(\",\")]\n",
    "        \n",
    "    ## for unclear attributes:\n",
    "    \n",
    "    # CJT is stand for Customer-Journey-Typology\n",
    "    dictionary['CJT_KATALOGNUTZER'] = dictionary['CJT_TYP_1'] = dictionary['CJT_TYP_2'] = \\\n",
    "    dictionary['CJT_TYP_3'] = dictionary['CJT_TYP_4'] = dictionary['CJT_TYP_5'] = dictionary['CJT_TYP_6'] = []\n",
    "    \n",
    "    # D19 is for transaction activity\n",
    "    dictionary['D19_BUCH_CD'] = dictionary['D19_BUCH_RZ']\n",
    "    dictionary['D19_KONSUMTYP_MAX'] = dictionary['D19_SOZIALES'] = dictionary['D19_TELKO_ONLINE_QUOTE_12'] = []\n",
    "    dictionary['D19_VERSI_DATUM'] =  dictionary['D19_VERSAND_DATUM']\n",
    "    dictionary['D19_VERSI_OFFLINE_DATUM'] = dictionary['D19_VERSAND_OFFLINE_DATUM']    \n",
    "    dictionary['D19_VERSI_ONLINE_DATUM'] = dictionary['D19_VERSAND_ONLINE_DATUM'] \n",
    "    dictionary['D19_VERSI_ONLINE_QUOTE_12'] = dictionary['D19_VERSAND_ONLINE_QUOTE_12']\n",
    "    \n",
    "    # KBA13 is for car sharing\n",
    "    dictionary['KBA13_ANTG1'] = dictionary['KBA05_ANTG1']\n",
    "    dictionary['KBA13_ANTG2'] = dictionary['KBA05_ANTG2']\n",
    "    dictionary['KBA13_ANTG3'] = dictionary['KBA05_ANTG3']\n",
    "    dictionary['KBA13_ANTG4'] = dictionary['KBA05_ANTG4']\n",
    "    dictionary['KBA13_BAUMAX'] = dictionary['KBA05_BAUMAX']\n",
    "    dictionary['KBA13_GBZ'] = dictionary['KBA05_GBZ']\n",
    "    dictionary['KBA13_CCM_1401_2500'] = dictionary['KBA13_CCM_1400_2500'] \n",
    "    dictionary['KBA13_HHZ'] = dictionary['PLZ8_HHZ']\n",
    "    dictionary['KBA13_KMH_210'] = dictionary['KBA13_KMH_180']\n",
    "    \n",
    "    # special attribute\n",
    "    dictionary['CAMEO_INTL_2015'] = [\"XX\"]\n",
    "    \n",
    "    # Other attributes (in unclear_attr) which have no info of Unknown value -> set to [] (default setting)\n",
    "    \n",
    "    # NOTE: later in Feature engineering, we found some unknown values not in dictationary\n",
    "    dictionary['CAMEO_DEUG_2015'] = [\"X\"]\n",
    "    dictionary['CAMEO_DEU_2015'] =[\"XX\"]\n",
    "    dictionary['GEBURTSJAHR'] = [\"0\"] # birthday\n",
    "    \n",
    "    return dictionary"
   ]
  },
  {
   "cell_type": "code",
   "execution_count": 8,
   "metadata": {},
   "outputs": [],
   "source": [
    "unknown_value_dict = create_unknown_value_dict(azdias, values, unclear_attr)\n",
    "# print(unknown_value_dict)"
   ]
  },
  {
   "cell_type": "markdown",
   "metadata": {},
   "source": [
    "### 0.2.3 Convert all type of Unknown values into a single value of np.NaN "
   ]
  },
  {
   "cell_type": "code",
   "execution_count": 9,
   "metadata": {
    "scrolled": true
   },
   "outputs": [],
   "source": [
    "def count_unknown_value_by_column(azdias):\n",
    "    '''\n",
    "    Calculates number of np.NaN in each columns of dataset azdias\n",
    "    '''       \n",
    "    unknown_value_array = []\n",
    "    for col in azdias.columns:\n",
    "        try:\n",
    "            unknown_value_array.append(azdias[col].isnull().value_counts()[1])\n",
    "        except:\n",
    "            unknown_value_array.append(0)\n",
    "    return unknown_value_array"
   ]
  },
  {
   "cell_type": "code",
   "execution_count": 10,
   "metadata": {},
   "outputs": [],
   "source": [
    "# count unknown values before converting\n",
    "original_unknown_values = count_unknown_value_by_column(azdias)\n",
    "# print(original_unknown_values)"
   ]
  },
  {
   "cell_type": "code",
   "execution_count": 11,
   "metadata": {},
   "outputs": [],
   "source": [
    "def convert_unknown_value_to_nan(df, unknown_value_dict, slient = False):\n",
    "    '''\n",
    "    Replaces given keys from unknown_value_dict to NaN in dataframe\n",
    "    \n",
    "    Input:\n",
    "        df (DataFrame): Dataset for which keys to np.nan need to be converted\n",
    "        unknown_value_dict: dictionary of attributes with keys that needs to be converted to NaN\n",
    "        slient: True if print out information (for debug purpose)\n",
    "    '''\n",
    "    for attribute in unknown_value_dict:\n",
    "        if attribute in df.columns:       \n",
    "            for item in unknown_value_dict[attribute]:\n",
    "                \n",
    "                # process special unknown values\n",
    "                if item == 'X' or item == 'XX':\n",
    "                    value = str(item)\n",
    "                elif item == '0.0':\n",
    "                    value = int(0)\n",
    "                else:\n",
    "                    value = int(item)\n",
    "                    \n",
    "                df[attribute].replace(value, np.NaN, inplace=True)\n",
    "                if type(value) is int:\n",
    "                    df[attribute].replace(float(value), np.NaN, inplace=True)\n",
    "        elif slient == False:\n",
    "            print(\"Attribute {} is not available in Azdias.\".format(attribute))"
   ]
  },
  {
   "cell_type": "code",
   "execution_count": 12,
   "metadata": {},
   "outputs": [
    {
     "name": "stdout",
     "output_type": "stream",
     "text": [
      "Attribute D19_BUCH_RZ is not available in Azdias.\n",
      "Attribute CAMEO_DEUINTL_2015 is not available in Azdias.\n",
      "Attribute WACHSTUMSGEBIET_NB is not available in Azdias.\n",
      "Attribute HAUSHALTSSTRUKTUR is not available in Azdias.\n",
      "Attribute SOHO_FLAG is not available in Azdias.\n",
      "Attribute BIP_FLAG is not available in Azdias.\n",
      "Attribute KBA13_CCM_1400_2500 is not available in Azdias.\n",
      "Attribute D19_KK_KUNDENTYP is not available in Azdias.\n",
      "Attribute GEOSCORE_KLS7 is not available in Azdias.\n"
     ]
    }
   ],
   "source": [
    "convert_unknown_value_to_nan(azdias, unknown_value_dict)"
   ]
  },
  {
   "cell_type": "code",
   "execution_count": 13,
   "metadata": {},
   "outputs": [],
   "source": [
    "# count unknown values after converting\n",
    "final_unknown_values = count_unknown_value_by_column(azdias)\n",
    "# print(final_unknown_values)"
   ]
  },
  {
   "cell_type": "code",
   "execution_count": 14,
   "metadata": {},
   "outputs": [
    {
     "name": "stdout",
     "output_type": "stream",
     "text": [
      "                    Attribute  Original  Final\n",
      "7                 ALTER_KIND4      1.00   1.00\n",
      "349                  TITEL_KZ      0.08   1.00\n",
      "6                 ALTER_KIND3      0.99   0.99\n",
      "91     D19_VERSI_ONLINE_DATUM      0.00   0.99\n",
      "76     D19_TELKO_ONLINE_DATUM      0.00   0.99\n",
      "33           D19_BANKEN_LOKAL      0.00   0.98\n",
      "34   D19_BANKEN_OFFLINE_DATUM      0.00   0.98\n",
      "5                 ALTER_KIND2      0.97   0.97\n",
      "90    D19_VERSI_OFFLINE_DATUM      0.00   0.96\n",
      "71           D19_TELKO_ANZ_12      0.00   0.96\n"
     ]
    }
   ],
   "source": [
    "n_records = azdias.shape[0] # number or records/rows\n",
    "\n",
    "report = pd.DataFrame(data=azdias.columns, columns=[\"Attribute\"])\n",
    "report['Original'] = original_unknown_values\n",
    "report['Original'] /= n_records\n",
    "report['Final'] = final_unknown_values \n",
    "report['Final'] /= n_records\n",
    "report = report.sort_values(by='Final', ascending=False)\n",
    "print(report.round(2)[:10])"
   ]
  },
  {
   "cell_type": "markdown",
   "metadata": {},
   "source": [
    "### 0.2.3 Drop columns/attributes that have a lot of NaN"
   ]
  },
  {
   "cell_type": "code",
   "execution_count": 15,
   "metadata": {},
   "outputs": [
    {
     "name": "stdout",
     "output_type": "stream",
     "text": [
      "Distribution of the number of unknown values in AZDIAS dataset\n"
     ]
    },
    {
     "data": {
      "text/plain": [
       "Text(0.5, 1.0, 'Distribution of Attribute')"
      ]
     },
     "execution_count": 15,
     "metadata": {},
     "output_type": "execute_result"
    },
    {
     "data": {
      "image/png": "[encoded data removed]",
      "text/plain": [
       "<Figure size 1440x360 with 1 Axes>"
      ]
     },
     "metadata": {
      "needs_background": "light"
     },
     "output_type": "display_data"
    }
   ],
   "source": [
    "print(\"Distribution of the number of unknown values in AZDIAS dataset\")\n",
    "n_columns = 75 # number of attributes to display\n",
    "fig = plt.figure(figsize=(20,5))\n",
    "\n",
    "ax = sns.barplot(report['Attribute'][0:n_columns], report['Final'], color = sns.color_palette()[2])\n",
    "ax.set_xticklabels(ax.get_xticklabels(), rotation=90)\n",
    "ax.set_xlabel('Number of Unknown value', size='large')\n",
    "ax.set_ylabel('Attribute', size='large');\n",
    "ax.set_title('Distribution of Attribute', size='large')"
   ]
  },
  {
   "cell_type": "code",
   "execution_count": 16,
   "metadata": {},
   "outputs": [
    {
     "name": "stdout",
     "output_type": "stream",
     "text": [
      "Max number of unknown values in a column/attribute: 267366.3 \n",
      "\n",
      "Number of removed columns:  70\n",
      "['AGER_TYP', 'ALTER_HH', 'ALTER_KIND1', 'ALTER_KIND2', 'ALTER_KIND3', 'ALTER_KIND4', 'D19_BANKEN_ANZ_12', 'D19_BANKEN_ANZ_24', 'D19_BANKEN_DATUM', 'D19_BANKEN_DIREKT', 'D19_BANKEN_GROSS', 'D19_BANKEN_LOKAL', 'D19_BANKEN_OFFLINE_DATUM', 'D19_BANKEN_ONLINE_DATUM', 'D19_BANKEN_REST', 'D19_BEKLEIDUNG_GEH', 'D19_BEKLEIDUNG_REST', 'D19_BILDUNG', 'D19_BIO_OEKO', 'D19_BUCH_CD', 'D19_DIGIT_SERV', 'D19_DROGERIEARTIKEL', 'D19_ENERGIE', 'D19_FREIZEIT', 'D19_GARTEN', 'D19_GESAMT_ANZ_12', 'D19_GESAMT_ANZ_24', 'D19_GESAMT_DATUM', 'D19_GESAMT_OFFLINE_DATUM', 'D19_GESAMT_ONLINE_DATUM', 'D19_HANDWERK', 'D19_HAUS_DEKO', 'D19_KINDERARTIKEL', 'D19_KOSMETIK', 'D19_LEBENSMITTEL', 'D19_LOTTO', 'D19_NAHRUNGSERGAENZUNG', 'D19_RATGEBER', 'D19_REISEN', 'D19_SAMMELARTIKEL', 'D19_SCHUHE', 'D19_SONSTIGE', 'D19_TECHNIK', 'D19_TELKO_ANZ_12', 'D19_TELKO_ANZ_24', 'D19_TELKO_DATUM', 'D19_TELKO_MOBILE', 'D19_TELKO_OFFLINE_DATUM', 'D19_TELKO_ONLINE_DATUM', 'D19_TELKO_REST', 'D19_TIERARTIKEL', 'D19_VERSAND_ANZ_12', 'D19_VERSAND_ANZ_24', 'D19_VERSAND_DATUM', 'D19_VERSAND_OFFLINE_DATUM', 'D19_VERSAND_ONLINE_DATUM', 'D19_VERSAND_REST', 'D19_VERSICHERUNGEN', 'D19_VERSI_ANZ_12', 'D19_VERSI_ANZ_24', 'D19_VERSI_DATUM', 'D19_VERSI_OFFLINE_DATUM', 'D19_VERSI_ONLINE_DATUM', 'D19_VOLLSORTIMENT', 'D19_WEIN_FEINKOST', 'EXTSEL992', 'GEBURTSJAHR', 'KBA05_BAUMAX', 'KK_KUNDENTYP', 'TITEL_KZ']\n"
     ]
    }
   ],
   "source": [
    "MAX_NUMBER_OF_UNKNOWN_VALUE = 0.3\n",
    "print('Max number of unknown values in a column/attribute: {} \\n'.format(MAX_NUMBER_OF_UNKNOWN_VALUE * n_records))\n",
    "\n",
    "deleted_rows = report[report['Final'] > MAX_NUMBER_OF_UNKNOWN_VALUE]\n",
    "deleted_attr = list(deleted_rows['Attribute'])\n",
    "print('Number of removed columns: ', len(deleted_attr))\n",
    "print(sorted(deleted_attr))"
   ]
  },
  {
   "cell_type": "code",
   "execution_count": 17,
   "metadata": {
    "scrolled": true
   },
   "outputs": [
    {
     "name": "stdout",
     "output_type": "stream",
     "text": [
      "Number of remaining columns/attributes:  296\n"
     ]
    }
   ],
   "source": [
    "azdias = azdias.drop(deleted_attr, axis=1)\n",
    "print('Number of remaining columns/attributes: ', azdias.shape[1])"
   ]
  },
  {
   "cell_type": "markdown",
   "metadata": {},
   "source": [
    "### 0.2.4 Drop rows/records that have a lot of NaN"
   ]
  },
  {
   "cell_type": "code",
   "execution_count": 18,
   "metadata": {},
   "outputs": [
    {
     "data": {
      "text/plain": [
       "Text(0.5, 1.0, 'Distribution of unknown values per row')"
      ]
     },
     "execution_count": 18,
     "metadata": {},
     "output_type": "execute_result"
    },
    {
     "data": {
      "image/png": "[encoded data removed]",
      "text/plain": [
       "<Figure size 432x288 with 1 Axes>"
      ]
     },
     "metadata": {
      "needs_background": "light"
     },
     "output_type": "display_data"
    }
   ],
   "source": [
    "# How much data is unknown in each row of the dataset?\n",
    "azdias['n_unknown'] = azdias.isnull().sum(axis=1)\n",
    "\n",
    "ax = azdias[\"n_unknown\"].plot(kind='hist', bins=31)\n",
    "ax.set_xlabel(\"Number of unknown values per row\")\n",
    "ax.set_ylabel(\"Number of rows\")\n",
    "ax.set_title('Distribution of unknown values per row', size='large')"
   ]
  },
  {
   "cell_type": "code",
   "execution_count": 19,
   "metadata": {},
   "outputs": [
    {
     "name": "stdout",
     "output_type": "stream",
     "text": [
      "Max number of unknown values in a row/record: 89.1 \n",
      "\n",
      "New dataset shape: (785302, 296)\n",
      "The new dataset contains 88% of the original amount of rows\n"
     ]
    }
   ],
   "source": [
    "MAX_NUMBER_OF_UNKNOWN_VALUE_PER_ROW = azdias.shape[1] * 0.3\n",
    "print('Max number of unknown values in a row/record: {} \\n'.format(MAX_NUMBER_OF_UNKNOWN_VALUE_PER_ROW))\n",
    "\n",
    "n_rows = azdias.shape[0]\n",
    "indexs = azdias[azdias['n_unknown'] > MAX_NUMBER_OF_UNKNOWN_VALUE_PER_ROW].index\n",
    "azdias.drop(indexs, inplace=True)\n",
    "azdias.drop(['n_unknown'], axis=1, inplace=True)\n",
    "\n",
    "print('New dataset shape: {}'.format(azdias.shape))\n",
    "print('The new dataset contains {}% of the original amount of rows'.format(int(azdias.shape[0] / n_rows * 100)))"
   ]
  },
  {
   "cell_type": "markdown",
   "metadata": {},
   "source": [
    "## 0.3 Feature (attribute) engineering"
   ]
  },
  {
   "cell_type": "markdown",
   "metadata": {},
   "source": [
    "### 0.3.1 Get value information of attributes in the Azdias dataset"
   ]
  },
  {
   "cell_type": "code",
   "execution_count": 20,
   "metadata": {},
   "outputs": [],
   "source": [
    "def get_existing_value_info(azdias, values):\n",
    "    attributes = {}\n",
    "    target_attr = set(values[\"Attribute\"]).intersection(azdias.columns.values)\n",
    "    attributes['Name'] = sorted(list(target_attr))\n",
    "    \n",
    "    n_value_column = []\n",
    "    value_column = []\n",
    "    unknown_value_column = []\n",
    "    for attribute in attributes['Name']:\n",
    "        texts = values[values['Attribute'] == attribute]['Value']\n",
    "        \n",
    "        value_set = set()\n",
    "        for text in texts:\n",
    "            value_set = value_set.union([x.strip() for x in text.split(\",\")])\n",
    "\n",
    "        unknown_value_list = unknown_value_dict[attribute]\n",
    "        unknown_value_string = \",\".join(unknown_value_list)\n",
    "        unknown_value_column.append(unknown_value_string)\n",
    "        \n",
    "        value_list = [v for v in value_set if v not in unknown_value_list]\n",
    "        n_value_column.append(len(value_list))\n",
    "            \n",
    "        value_string = \",\".join(sorted(value_list))\n",
    "        value_column.append(value_string)\n",
    "        \n",
    "    attributes['n_values'] = n_value_column\n",
    "    attributes['Values'] = value_column\n",
    "    attributes['Unknown_value'] = unknown_value_column\n",
    "    return attributes"
   ]
  },
  {
   "cell_type": "code",
   "execution_count": 21,
   "metadata": {},
   "outputs": [
    {
     "name": "stdout",
     "output_type": "stream",
     "text": [
      "Number of attribute info:  245 / 296\n"
     ]
    }
   ],
   "source": [
    "### Get existing value-information from the Azdias dataset\n",
    "attributes = get_existing_value_info(azdias, values)\n",
    "print('Number of attribute info: ', len(attributes['Name']), '/', len(azdias.columns.values))"
   ]
  },
  {
   "cell_type": "code",
   "execution_count": 22,
   "metadata": {},
   "outputs": [
    {
     "name": "stdout",
     "output_type": "stream",
     "text": [
      "--- ANZ_HAUSHALTE_AKTIV has no unknown value --> check again\n",
      "  Actual:  [0.0, 1.0, 2.0, 3.0, 4.0, 5.0, 6.0, 7.0, 8.0, 9.0, 10.0, 11.0, 12.0, 13.0, 14.0]\n",
      "--- ANZ_HH_TITEL has no unknown value --> check again\n",
      "  Actual:  [0.0, 1.0, 2.0, 3.0, 4.0, 5.0, 6.0, 7.0, 8.0, 9.0, 10.0, 11.0, 12.0, 13.0, 14.0]\n",
      "--- ANZ_PERSONEN has no unknown value --> check again\n",
      "  Actual:  [0.0, 1.0, 2.0, 3.0, 4.0, 5.0, 6.0, 7.0, 8.0, 9.0, 10.0, 11.0, 12.0, 13.0, 14.0]\n",
      "--- ANZ_TITEL has no unknown value --> check again\n",
      "  Actual:  [0.0, 1.0, 2.0, 3.0, 4.0]\n",
      "+++ CAMEO_DEUG_2015\n",
      "  Actual:    ['2', '5', '6', '3', '8', '4', '1', '9', '7']\n",
      "  Metadata:  [1.0, 2.0, 3.0, 4.0, 5.0, 6.0, 7.0, 8.0, 9.0]\n",
      ">>> CAMEO_DEU_2015 is not in float type\n",
      "  Metadata:  {'6E', '7E', '7C', '7B', '8D', '9C', '9B', '5C', '1C', '2B', '4A', '4D', '1B', '1D', '5F', '6B', '6C', '5A', '5B', '3B', '8C', '3A', '5D', '4C', '7A', '6F', '5E', '9E', '9A', '6A', '4E', '9D', '2C', '3D', '3C', '1E', '2A', '8A', '7D', '8B', '2D', '1A', '4B', '6D'}\n",
      "+++ KBA05_MODTEMP\n",
      "  Actual:    [1.0, 2.0, 3.0, 4.0, 5.0, 6.0]\n",
      "  Metadata:  [1.0, 2.0, 3.0, 4.0, 5.0]\n",
      "--- KBA13_ANZAHL_PKW has no unknown value --> check again\n",
      "  Actual:  [0.0, 1.0, 2.0, 3.0, 4.0, 5.0, 6.0, 7.0, 8.0, 9.0, 10.0, 11.0, 12.0, 13.0, 14.0]\n",
      "+++ LP_FAMILIE_FEIN\n",
      "  Actual:    [0.0, 1.0, 2.0, 3.0, 4.0, 5.0, 6.0, 7.0, 8.0, 9.0, 10.0, 11.0]\n",
      "  Metadata:  [1.0, 2.0, 3.0, 4.0, 5.0, 6.0, 7.0, 8.0, 9.0, 10.0, 11.0]\n",
      "+++ LP_FAMILIE_GROB\n",
      "  Actual:    [0.0, 1.0, 2.0, 3.0, 4.0, 5.0]\n",
      "  Metadata:  [1.0, 2.0, 3.0, 4.0, 5.0, 6.0]\n",
      "+++ LP_LEBENSPHASE_FEIN\n",
      "  Actual:    [0.0, 1.0, 2.0, 3.0, 4.0, 5.0, 6.0, 7.0, 8.0, 9.0, 10.0, 11.0, 12.0, 13.0, 14.0]\n",
      "  Metadata:  [1.0, 2.0, 3.0, 4.0, 5.0, 6.0, 7.0, 8.0, 9.0, 10.0, 11.0, 12.0, 13.0, 14.0, 15.0]\n",
      "+++ LP_LEBENSPHASE_GROB\n",
      "  Actual:    [0.0, 1.0, 2.0, 3.0, 4.0, 5.0, 6.0, 7.0, 8.0, 9.0, 10.0, 11.0, 12.0]\n",
      "  Metadata:  [1.0, 2.0, 3.0, 4.0, 5.0, 6.0, 7.0, 8.0, 9.0, 10.0, 11.0, 12.0]\n",
      "--- MIN_GEBAEUDEJAHR has no unknown value --> check again\n",
      "  Actual:  [1985.0, 1986.0, 1987.0, 1988.0, 1989.0, 1990.0, 1991.0, 1992.0, 1993.0, 1994.0, 1995.0, 1996.0, 1997.0, 1998.0, 1999.0]\n",
      "+++ ORTSGR_KLS9\n",
      "  Actual:    [0.0, 1.0, 2.0, 3.0, 4.0, 5.0, 6.0, 7.0, 8.0, 9.0]\n",
      "  Metadata:  [1.0, 2.0, 3.0, 4.0, 5.0, 6.0, 7.0, 8.0, 9.0]\n",
      ">>> OST_WEST_KZ is not in float type\n",
      "  Metadata:  {'O', 'W'}\n"
     ]
    }
   ],
   "source": [
    "### Checking if attributes['Values'] cover all values in `azdias`, we found that\n",
    "###  1. CAMEO_DEUG_2015 has string type -> convert to float\n",
    "###  2. CAMEO_DEU_2015 has special values -> need engineering (will inverstigate later)\n",
    "###  3. KBA05_MODTEMP has a different value of 6 -> drop this attribute\n",
    "###  5. OST_WEST_KZ is a binary value but different representation -> convert to [0,1]\n",
    "###  6. Some unknown values should be added into the dictationary (the last three attributes are moved \n",
    "###  to create_unknown_value_dict() so we do not see the result here\n",
    "###     LP_FAMILIE_FEIN, LP_FAMILIE_GROB, LP_LEBENSPHASE_FEIN, LP_LEBENSPHASE_GROB, ORTSGR_KLS9 should have 0.0\n",
    "###     GEBURTSJAHR has unknown value of [0] (not year)\n",
    "###     CAMEO_DEUG_2015 has unknown value of ['X']\n",
    "###     CAMEO_DEU_2015 has unknown value of ['XX']\n",
    "### These above findings are used to clean data in the next part\n",
    "\n",
    "_report = pd.DataFrame(data=attributes)\n",
    "\n",
    "for _, row in _report.iterrows():\n",
    "    attribute = row['Name']\n",
    "    \n",
    "    # handle the numberic type\n",
    "    if row['Values'] == '?':\n",
    "        value_set = set(azdias[azdias[attribute].notnull()][attribute])\n",
    "        n_values = min(len(value_set), 15)\n",
    "        print('---', attribute, 'has no unknown value --> check again')\n",
    "        print('  Actual: ', list(value_set)[:n_values])\n",
    "        continue\n",
    "    \n",
    "    # get values from metadata\n",
    "    value_set_info = row['Values'].split(\",\")\n",
    "    try:\n",
    "        value_set_info = set([float(x) for x in value_set_info])\n",
    "    except:\n",
    "        value_set_info = set(value_set_info)\n",
    "        print('>>>', attribute, 'is not in float type')\n",
    "        print('  Metadata: ', value_set_info)\n",
    "        \n",
    "    # get values from actual dataset\n",
    "    value_set = set(azdias[azdias[attribute].notnull()][attribute])\n",
    "    if not value_set.issubset(value_set_info):\n",
    "        print('+++', attribute)\n",
    "        n_values = min(len(value_set), 15)\n",
    "        print('  Actual:   ', list(value_set)[:n_values])\n",
    "        print('  Metadata: ', list(value_set_info)[:n_values])\n",
    "        \n",
    "_report = None"
   ]
  },
  {
   "cell_type": "code",
   "execution_count": 23,
   "metadata": {},
   "outputs": [
    {
     "name": "stdout",
     "output_type": "stream",
     "text": [
      "Number of attribute:  296 / 296\n"
     ]
    }
   ],
   "source": [
    "### Insert data of unclear attributes into dataframe 'attributes'\n",
    "different_attr = set(azdias.columns.values).difference(values['Attribute'])\n",
    "\n",
    "for attribute in different_attr:\n",
    "    attributes['Name'].append(attribute)\n",
    "        \n",
    "    value_set = set(azdias[azdias[attribute].notnull()][attribute])\n",
    "    value_strings = [str(v) for v in value_set]\n",
    "    attributes['n_values'].append(len(value_strings))\n",
    "\n",
    "    value_strings = value_strings[:20] if len(value_strings) > 20 else value_strings\n",
    "    value_string = \",\".join(value_strings)\n",
    "    attributes['Values'].append(value_string)\n",
    "    \n",
    "    attributes['Unknown_value'].append(\"\")\n",
    "    \n",
    "print('Number of attribute: ', len(attributes['Name']), '/', len(azdias.columns.values))"
   ]
  },
  {
   "cell_type": "markdown",
   "metadata": {},
   "source": [
    "### 0.3.2 Manually check detailed info and decide the type "
   ]
  },
  {
   "cell_type": "markdown",
   "metadata": {},
   "source": [
    "Based on the above findings, we create a file name **features-final.csv** to store the unknown/known values and information of each dataset and use it for fast processing on multiple dataframe  "
   ]
  },
  {
   "cell_type": "code",
   "execution_count": 24,
   "metadata": {},
   "outputs": [],
   "source": [
    "### Load the additional info and store into features-before-engineering.csv\n",
    "infos = pd.read_csv('data/DIAS_Information_Levels_Attributes_2017.csv', sep=',')\n",
    "references = infos['Attribute'].values\n",
    "\n",
    "info_column = []\n",
    "for attribute in attributes['Name']:\n",
    "    if attribute in references:\n",
    "        text = str(infos[infos['Attribute'] == attribute]['Info'].values[0])\n",
    "    else:\n",
    "        text = \"\"\n",
    "    info_column.append(text)\n",
    "attributes['Info'] = info_column\n",
    "\n",
    "report = pd.DataFrame(data=attributes)\n",
    "report.to_csv(\"data/features-before-engineering.csv\", index=False)"
   ]
  },
  {
   "cell_type": "code",
   "execution_count": 25,
   "metadata": {
    "scrolled": true
   },
   "outputs": [
    {
     "data": {
      "text/plain": [
       "ordinal        241\n",
       "categorical     27\n",
       "numberic        11\n",
       "binary          10\n",
       "-                4\n",
       "mixed            3\n",
       "Name: Type, dtype: int64"
      ]
     },
     "execution_count": 25,
     "metadata": {},
     "output_type": "execute_result"
    }
   ],
   "source": [
    "### after creating features-final.csv, read this file\n",
    "features = pd.read_csv('data/features-final.csv', sep=',')\n",
    "features['Type'].value_counts()"
   ]
  },
  {
   "cell_type": "markdown",
   "metadata": {},
   "source": [
    "### 0.3.3 Clean data"
   ]
  },
  {
   "cell_type": "markdown",
   "metadata": {},
   "source": [
    "1. Set of unknown values\n",
    "  - LP_FAMILIE_FEIN, LP_FAMILIE_GROB, LP_LEBENSPHASE_FEIN, LP_LEBENSPHASE_GROB, ORTSGR_KLS9 columns in dataset do not contain value of 0 -> guess it is an unknonwn value, manually add into __feature-final.csv__\n",
    "2. Dropped columns\n",
    "  - LNR is ID column not feature\n",
    "  - KBA05_MODTEMP column contain a value of 6 -> cannot understand\n",
    "  - GEMEINDETYP, D19_KONSUMTYP_MAX, KOMBIALTER, VERDICHTUNGSRAUM are difficult to understand\n",
    "  - CAMEO_DEU_2015 and CAMEO_DEUG_2015 are both describing New German CAMEO Typology but at different scales. Since CAMEO_DEU_2015 contains 44 categories, I've decided to keep CAMEO_DEUG_2015 only and drop CAMEO_DEU_2015.\n",
    "  - Similar to CAMEO_DEUG_2015, I've decided to keep LP_LEBENSPHASE_GROB and remove LP_LEBENSPHASE_FEIN.\n",
    "3. Data type convertion\n",
    "  - CAMEO_DEUG_2015 has string type -> convert to float\n",
    "  - OST_WEST_KZ is a binary value but different representation -> convert to [0,1]\n",
    "  - EINGEFUEGT_AM is in date-time format -> can convert to year\n",
    "4. Column seperation\n",
    "  - CAMEO_INTL_2015 contains mixed data -> separate into WEALTH and LIFE_AGE\n",
    "  - PRAEGENDE_JUGENDJAHRE contains mixed data -> separate into MOVEMENT and GENERATION_DECADE\n",
    "  - PLZ8_BAUMAX contains mixed data but we can treat this feature as categorical "
   ]
  },
  {
   "cell_type": "code",
   "execution_count": 26,
   "metadata": {},
   "outputs": [
    {
     "name": "stdout",
     "output_type": "stream",
     "text": [
      "Number of unknown values BEFORE adding new unknown value\n",
      ">>> Number of NaN: 4572 of LP_FAMILIE_FEIN account for 0%\n",
      "Set:  []\n",
      "Actual:  {0.0, 1.0, 2.0, 3.0, 4.0, 5.0, 6.0, 7.0, 8.0, 9.0, 10.0, 11.0}\n",
      ">>> Number of NaN: 4572 of LP_FAMILIE_GROB account for 0%\n",
      "Set:  []\n",
      "Actual:  {0.0, 1.0, 2.0, 3.0, 4.0, 5.0}\n",
      ">>> Number of NaN: 4572 of LP_LEBENSPHASE_GROB account for 0%\n",
      "Set:  []\n",
      "Actual:  {0.0, 1.0, 2.0, 3.0, 4.0, 5.0, 6.0, 7.0, 8.0, 9.0, 10.0, 11.0, 12.0}\n",
      ">>> Number of NaN: 4026 of ORTSGR_KLS9 account for 0%\n",
      "Set:  ['-1']\n",
      "Actual:  {0.0, 1.0, 2.0, 3.0, 4.0, 5.0, 6.0, 7.0, 8.0, 9.0}\n",
      "-------------------------------------------------------\n",
      "Number of unknown values AFTER adding new unknown value\n",
      ">>> Number of NaN: 30890 of LP_FAMILIE_FEIN account for 3%\n",
      "Set:  ['0']\n",
      "Actual:  {1.0, 2.0, 3.0, 4.0, 5.0, 6.0, 7.0, 8.0, 9.0, 10.0, 11.0}\n",
      ">>> Number of NaN: 30890 of LP_FAMILIE_GROB account for 3%\n",
      "Set:  ['0']\n",
      "Actual:  {1.0, 2.0, 3.0, 4.0, 5.0}\n",
      ">>> Number of NaN: 46457 of LP_LEBENSPHASE_GROB account for 5%\n",
      "Set:  ['0']\n",
      "Actual:  {1.0, 2.0, 3.0, 4.0, 5.0, 6.0, 7.0, 8.0, 9.0, 10.0, 11.0, 12.0}\n",
      ">>> Number of NaN: 4084 of ORTSGR_KLS9 account for 0%\n",
      "Set:  ['-1', '0']\n",
      "Actual:  {1.0, 2.0, 3.0, 4.0, 5.0, 6.0, 7.0, 8.0, 9.0}\n"
     ]
    }
   ],
   "source": [
    "### Correct the set of unknown values and Re-check the number per column\n",
    "\n",
    "# At the first running, we found that the number of NaN for GEBURTSJAHR is about 38%. Other attributes remain unchanged.\n",
    "# Since we decided to move setting of GEBURTSJAHR to create_unknown_value_dict() so it is deleted in Part 0.2\n",
    "\n",
    "incorrect_unknown_columns = ['LP_FAMILIE_FEIN', 'LP_FAMILIE_GROB', 'LP_LEBENSPHASE_GROB',    \n",
    "                             'ORTSGR_KLS9'] # LP_LEBENSPHASE_FEIN and GEBURTSJAHR are decided to drop\n",
    "\n",
    "def print_column_info(azdias, columns):\n",
    "    for attribute in columns:\n",
    "        num = azdias[attribute].isnull().sum()\n",
    "        print(f'>>> Number of NaN: {num} of {attribute} account for {int(num / azdias.shape[0] * 100)}%')\n",
    "        print('Set: ', unknown_value_dict[attribute])\n",
    "        print('Actual: ',  set(azdias[azdias[attribute].notnull()][attribute]))\n",
    "\n",
    "print(\"Number of unknown values BEFORE adding new unknown value\")\n",
    "print_column_info(azdias, incorrect_unknown_columns)\n",
    "    \n",
    "for attribute in incorrect_unknown_columns:\n",
    "    unknown_value_dict[attribute].append('0')\n",
    "    azdias[attribute].replace([0], [np.nan], inplace=True)\n",
    "    azdias[attribute].replace([0.0], [np.nan], inplace=True)\n",
    "    \n",
    "print(\"-------------------------------------------------------\") \n",
    "print(\"Number of unknown values AFTER adding new unknown value\")\n",
    "print_column_info(azdias, incorrect_unknown_columns)"
   ]
  },
  {
   "cell_type": "code",
   "execution_count": 27,
   "metadata": {},
   "outputs": [],
   "source": [
    "def clean_data(df):\n",
    "    print(\"Drop columns\")\n",
    "    deleted_attributes = [\"LNR\", \n",
    "                          \"KBA05_MODTEMP\", \"GEMEINDETYP\", \"D19_KONSUMTYP_MAX\", \"KOMBIALTER\", \"VERDICHTUNGSRAUM\",\n",
    "                          \"CAMEO_DEU_2015\", \"LP_LEBENSPHASE_FEIN\"]\n",
    "    df.drop(deleted_attributes, axis=1, inplace=True)\n",
    "\n",
    "    print(\"Convert CAMEO_DEUG_2015 to float\")\n",
    "    df[\"CAMEO_DEUG_2015\"] = df[\"CAMEO_DEUG_2015\"].astype(float)\n",
    "\n",
    "    print(\"Re-encode OST_WEST_KZ\")\n",
    "    df['OST_WEST_KZ'].replace(['O','W'], [0, 1], inplace=True)\n",
    "\n",
    "    print(\"Change EINGEFUEGT_AM to year format\")\n",
    "    df[\"EINGEFUEGT_AM\"] = pd.to_datetime(df[\"EINGEFUEGT_AM\"], format='%Y/%m/%d %H:%M')\n",
    "    df[\"EINGEFUEGT_AM\"] = df[\"EINGEFUEGT_AM\"].dt.year\n",
    "    \n",
    "    print(\"Saperate PRAEGENDE_JUGENDJAHRE into MOVEMENT and GENERATION_DECADE\")\n",
    "    df['MOVEMENT'] = df['PRAEGENDE_JUGENDJAHRE']\n",
    "    df['MOVEMENT'].replace([-1,0,1,2,3,4,5,6,7,8,9,10,11,12,13,14,15], \n",
    "                           [np.nan,np.nan,1,2,1,2,1,2,2,1,2,1,2,1,2,1,2], inplace=True) \n",
    "    df['GENERATION_DECADE'] = df['PRAEGENDE_JUGENDJAHRE']\n",
    "    df['GENERATION_DECADE'].replace([-1,0,1,2,3,4,5,6,7,8,9,10,11,12,13,14,15], \n",
    "                                    [np.nan,np.nan,4,4,5,5,6,6,6,7,7,8,8,8,8,9,9], inplace=True) \n",
    "    df.drop(['PRAEGENDE_JUGENDJAHRE'], axis=1, inplace=True)\n",
    "\n",
    "    print(\"Saperate CAMEO_INTL_2015 into WEALTH and LIFE_AGE\")\n",
    "    df['WEALTH'] = df['CAMEO_INTL_2015'].str[:1].astype(float)\n",
    "    df['LIFE_AGE'] = df['CAMEO_INTL_2015'].str[1:2].astype(float)\n",
    "    df.drop(['CAMEO_INTL_2015'], axis=1, inplace=True)\n",
    "    \n",
    "    return df"
   ]
  },
  {
   "cell_type": "code",
   "execution_count": 28,
   "metadata": {},
   "outputs": [
    {
     "name": "stdout",
     "output_type": "stream",
     "text": [
      "Drop columns\n",
      "Convert CAMEO_DEUG_2015 to float\n",
      "Re-encode OST_WEST_KZ\n",
      "Change EINGEFUEGT_AM to year format\n",
      "Saperate PRAEGENDE_JUGENDJAHRE into MOVEMENT and GENERATION_DECADE\n",
      "Saperate CAMEO_INTL_2015 into WEALTH and LIFE_AGE\n",
      "(785302, 290)\n"
     ]
    }
   ],
   "source": [
    "azdias = clean_data(azdias)\n",
    "print(azdias.shape)"
   ]
  },
  {
   "cell_type": "markdown",
   "metadata": {},
   "source": [
    "### 0.3.4 Impute  data"
   ]
  },
  {
   "cell_type": "code",
   "execution_count": 30,
   "metadata": {},
   "outputs": [],
   "source": [
    "def impute(df):\n",
    "    '''\n",
    "    Imputes the most frequent value per column.\n",
    "    Input:\n",
    "        df (dataframe) - dataframe to be used.\n",
    "    Output:\n",
    "        df_copy (dataframe) - imputed dataframe.\n",
    "    '''\n",
    "    df_copy = df.copy()\n",
    "\n",
    "    cnter = 0\n",
    "    bar = progressbar.ProgressBar(maxval = df_copy.shape[1] + 1, \n",
    "                                  widgets = [progressbar.Bar('=', '[', ']'), ' ', progressbar.Percentage()])\n",
    "    \n",
    "    bar.start()\n",
    "\n",
    "    for col in df_copy.columns[df_copy.isnull().any()]:\n",
    "        cnter += 1\n",
    "        bar.update(cnter)\n",
    "        most_freq_value = df_copy.groupby([col])[col].count().sort_values(ascending=False).index[0]\n",
    "        df_copy[col].fillna(most_freq_value, inplace=True)\n",
    "\n",
    "    bar.finish()\n",
    "\n",
    "    return df_copy"
   ]
  },
  {
   "cell_type": "code",
   "execution_count": 31,
   "metadata": {},
   "outputs": [
    {
     "name": "stderr",
     "output_type": "stream",
     "text": [
      "[========================================================================] 100%\r"
     ]
    },
    {
     "name": "stdout",
     "output_type": "stream",
     "text": [
      "(785302, 290)\n"
     ]
    },
    {
     "name": "stderr",
     "output_type": "stream",
     "text": [
      "\n"
     ]
    }
   ],
   "source": [
    "azdias_imputed = impute(azdias)\n",
    "print(azdias_imputed.shape)"
   ]
  },
  {
   "cell_type": "markdown",
   "metadata": {},
   "source": [
    "### 0.3.4. Re-encode categorical features"
   ]
  },
  {
   "cell_type": "code",
   "execution_count": 32,
   "metadata": {},
   "outputs": [
    {
     "name": "stdout",
     "output_type": "stream",
     "text": [
      "Categorical features: ['WOHNLAGE', 'ZABEOTYP', 'CJT_KATALOGNUTZER', 'D19_LETZTER_KAUF_BRANCHE', 'KBA05_HERSTTEMP', 'STRUKTURTYP', 'LP_LEBENSPHASE_GROB', 'CJT_GESAMTTYP', 'SHOPPER_TYP', 'GEBAEUDETYP', 'D19_KONSUMTYP', 'FINANZTYP', 'GFK_URLAUBERTYP', 'KBA05_MAXHERST', 'PLZ8_BAUMAX', 'HEALTH_TYP', 'RETOURTYP_BK_S', 'VHA', 'LP_FAMILIE_FEIN', 'LP_FAMILIE_GROB', 'LP_STATUS_FEIN', 'CAMEO_DEUG_2015', 'KBA05_MAXSEG', 'LP_STATUS_GROB', 'NATIONALITAET_KZ']\n"
     ]
    }
   ],
   "source": [
    "cat_features = list(features[(features['Type'] == \"categorical\") & (features['Action'] != \"drop\")]['Name'])\n",
    "print('Categorical features:', cat_features)"
   ]
  },
  {
   "cell_type": "code",
   "execution_count": 33,
   "metadata": {},
   "outputs": [],
   "source": [
    "from sklearn.preprocessing import OneHotEncoder\n",
    "OH_encoder = OneHotEncoder(handle_unknown='ignore', sparse=False)"
   ]
  },
  {
   "cell_type": "code",
   "execution_count": 34,
   "metadata": {},
   "outputs": [],
   "source": [
    "def fit_transform(df, columns, OH_encoder):\n",
    "    OH_cols = pd.DataFrame(OH_encoder.fit_transform(df[columns]))\n",
    "    OH_cols.index = df.index\n",
    "    OH_cols.columns = OH_encoder.get_feature_names(columns)\n",
    "    num_df = df.drop(columns, axis=1)\n",
    "    return pd.concat([num_df, OH_cols], axis=1)\n",
    "    \n",
    "def transform(df, columns, OH_encoder):\n",
    "    OH_cols = pd.DataFrame(OH_encoder.transform(df[columns]))\n",
    "    OH_cols.index = df.index\n",
    "    OH_cols.columns = OH_encoder.get_feature_names(columns)\n",
    "    num_df = df.drop(columns, axis=1)\n",
    "    return pd.concat([num_df, OH_cols], axis=1)"
   ]
  },
  {
   "cell_type": "code",
   "execution_count": 35,
   "metadata": {},
   "outputs": [
    {
     "name": "stdout",
     "output_type": "stream",
     "text": [
      "(785302, 452)\n"
     ]
    }
   ],
   "source": [
    "# cleaned_azdias = pd.get_dummies(azdias_imputed, columns=cat_features)\n",
    "cleaned_azdias = fit_transform(azdias_imputed, cat_features, OH_encoder)\n",
    "print(cleaned_azdias.shape)"
   ]
  },
  {
   "cell_type": "markdown",
   "metadata": {},
   "source": [
    "## 0.4 Repeat with customers\n",
    "\n",
    "__IMPORTANT NOTE:__\n",
    "\n",
    "* To avoid memory issue, we start **reading the dataset from beginning** and only execute the neccessry part\n",
    "* Due to the lack of memory and computation, we restore result after processing\n",
    "* Since we re-arrange the order of processing, the length of cleaned_azdias slightly changes from 785302 to 785300"
   ]
  },
  {
   "cell_type": "code",
   "execution_count": 36,
   "metadata": {},
   "outputs": [],
   "source": [
    "def clean_dataset(orginal_df, new_attr_of_customers = [], drop_rows = True):\n",
    "    print('===== Drop extra columns =====')\n",
    "    df = orginal_df.drop(new_attr_of_customers, axis=1)\n",
    "    \n",
    "    print('======== Drop columns ========')\n",
    "    deleted_attrs= ['AGER_TYP', 'ALTER_HH', 'ALTER_KIND1', 'ALTER_KIND2', 'ALTER_KIND3', 'ALTER_KIND4', \n",
    "                    'D19_BANKEN_ANZ_12', 'D19_BANKEN_ANZ_24', 'D19_BANKEN_DATUM', 'D19_BANKEN_DIREKT', \n",
    "                    'D19_BANKEN_GROSS', 'D19_BANKEN_LOKAL', 'D19_BANKEN_OFFLINE_DATUM', 'D19_BANKEN_ONLINE_DATUM', \n",
    "                    'D19_BANKEN_REST', 'D19_BEKLEIDUNG_GEH', 'D19_BEKLEIDUNG_REST', 'D19_BILDUNG', 'D19_BIO_OEKO', \n",
    "                    'D19_BUCH_CD', 'D19_DIGIT_SERV', 'D19_DROGERIEARTIKEL', 'D19_ENERGIE', 'D19_FREIZEIT', 'D19_GARTEN', \n",
    "                    'D19_GESAMT_ANZ_12', 'D19_GESAMT_ANZ_24', 'D19_GESAMT_DATUM', 'D19_GESAMT_OFFLINE_DATUM', \n",
    "                    'D19_GESAMT_ONLINE_DATUM', 'D19_HANDWERK', 'D19_HAUS_DEKO', 'D19_KINDERARTIKEL', 'D19_KOSMETIK', \n",
    "                    'D19_LEBENSMITTEL', 'D19_LOTTO', 'D19_NAHRUNGSERGAENZUNG', 'D19_RATGEBER', 'D19_REISEN', \n",
    "                    'D19_SAMMELARTIKEL', 'D19_SCHUHE', 'D19_SONSTIGE', 'D19_TECHNIK', 'D19_TELKO_ANZ_12', \n",
    "                    'D19_TELKO_ANZ_24', 'D19_TELKO_DATUM', 'D19_TELKO_MOBILE', 'D19_TELKO_OFFLINE_DATUM', \n",
    "                    'D19_TELKO_ONLINE_DATUM', 'D19_TELKO_REST', 'D19_TIERARTIKEL', 'D19_VERSAND_ANZ_12', \n",
    "                    'D19_VERSAND_ANZ_24', 'D19_VERSAND_DATUM', 'D19_VERSAND_OFFLINE_DATUM', 'D19_VERSAND_ONLINE_DATUM', \n",
    "                    'D19_VERSAND_REST', 'D19_VERSICHERUNGEN', 'D19_VERSI_ANZ_12', 'D19_VERSI_ANZ_24', 'D19_VERSI_DATUM', \n",
    "                    'D19_VERSI_OFFLINE_DATUM', 'D19_VERSI_ONLINE_DATUM', 'D19_VOLLSORTIMENT', 'D19_WEIN_FEINKOST', \n",
    "                    'EXTSEL992', 'GEBURTSJAHR', 'KBA05_BAUMAX', 'KK_KUNDENTYP', 'TITEL_KZ']\n",
    "    deleted_attrs.extend([\"LNR\", \n",
    "                          \"KBA05_MODTEMP\", \"GEMEINDETYP\", \"D19_KONSUMTYP_MAX\", \"KOMBIALTER\", \"VERDICHTUNGSRAUM\",\n",
    "                          \"CAMEO_DEU_2015\", \"LP_LEBENSPHASE_FEIN\"])\n",
    "    df.drop(deleted_attrs, axis=1, inplace=True)\n",
    "    print(df.shape)\n",
    "    \n",
    "    print('==== Handle Unknown value ====')\n",
    "    unknown_value_dict = {}\n",
    "    feature_info = pd.read_csv('data/features-final.csv', sep=',')\n",
    "    for _, info in feature_info.iterrows():\n",
    "        if not pd.isnull(info['Unknown_value']):\n",
    "            feature = info['Name']\n",
    "            values = info['Unknown_value'].split(\",\")\n",
    "            unknown_value_dict[feature] = values\n",
    "    convert_unknown_value_to_nan(df, unknown_value_dict, slient = True)\n",
    "    print(df.shape)\n",
    "    \n",
    "    print('======== Modify data =========')\n",
    "    df[\"CAMEO_DEUG_2015\"] = df[\"CAMEO_DEUG_2015\"].astype(float)\n",
    "    \n",
    "    df['OST_WEST_KZ'].replace(['O','W'], [0, 1], inplace=True)\n",
    "    \n",
    "    df[\"EINGEFUEGT_AM\"] = pd.to_datetime(df[\"EINGEFUEGT_AM\"], format='%Y/%m/%d %H:%M')\n",
    "    df[\"EINGEFUEGT_AM\"] = df[\"EINGEFUEGT_AM\"].dt.year\n",
    "    \n",
    "    df['MOVEMENT'] = df['PRAEGENDE_JUGENDJAHRE'].replace([-1,0,1,2,3,4,5,6,7,8,9,10,11,12,13,14,15], \n",
    "                                                         [np.nan,np.nan,1,2,1,2,1,2,2,1,2,1,2,1,2,1,2]) \n",
    "    df['GENERATION_DECADE'] = df['PRAEGENDE_JUGENDJAHRE'].replace([-1,0,1,2,3,4,5,6,7,8,9,10,11,12,13,14,15], \n",
    "                                                                  [np.nan,np.nan,4,4,5,5,6,6,6,7,7,8,8,8,8,9,9]) \n",
    "    df.drop(['PRAEGENDE_JUGENDJAHRE'], axis=1, inplace=True)\n",
    "\n",
    "    df['WEALTH'] = df['CAMEO_INTL_2015'].str[:1]\n",
    "    df['WEALTH'] = df['WEALTH'].apply(lambda x: float(x) if x != 'X' else np.NaN)\n",
    "    df['LIFE_AGE'] = df['CAMEO_INTL_2015'].str[1:2]\n",
    "    df['LIFE_AGE'] = df['LIFE_AGE'].apply(lambda x: float(x) if x != 'X' else np.NaN)\n",
    "    df.drop(['CAMEO_INTL_2015'], axis=1, inplace=True)\n",
    "    print(df.shape)\n",
    "\n",
    "    if drop_rows:\n",
    "        print('========== Drop rows =========')\n",
    "        MAX_NUMBER_OF_UNKNOWN_VALUE_PER_ROW = 89.1 # azdias.shape[1] * 0.3\n",
    "        df['n_unknown'] = df.isnull().sum(axis=1)\n",
    "        row_indexs = df[df['n_unknown'] > MAX_NUMBER_OF_UNKNOWN_VALUE_PER_ROW].index\n",
    "        df.drop(row_indexs, inplace=True)\n",
    "        df.drop(['n_unknown'], axis=1, inplace=True)\n",
    "        print(df.shape)\n",
    "    \n",
    "    print('=========== Impute ===========')\n",
    "    df = impute(df)\n",
    "    print(df.shape)\n",
    "    \n",
    "    return df    "
   ]
  },
  {
   "cell_type": "code",
   "execution_count": 37,
   "metadata": {
    "scrolled": true
   },
   "outputs": [
    {
     "name": "stdout",
     "output_type": "stream",
     "text": [
      "CPU times: user 11.3 s, sys: 1.74 s, total: 13 s\n",
      "Wall time: 15.3 s\n"
     ]
    }
   ],
   "source": [
    "%%time\n",
    "\n",
    "# load in the data from beginning\n",
    "azdias = pd.read_csv('data/Udacity_AZDIAS_052018.csv', sep=';', dtype={18:'str',19:'str'})"
   ]
  },
  {
   "cell_type": "code",
   "execution_count": 38,
   "metadata": {
    "scrolled": false
   },
   "outputs": [
    {
     "name": "stdout",
     "output_type": "stream",
     "text": [
      "===== Drop extra columns =====\n",
      "======== Drop columns ========\n",
      "(891221, 288)\n",
      "==== Handle Unknown value ====\n",
      "(891221, 288)\n",
      "======== Modify data =========\n",
      "(891221, 290)\n",
      "========== Drop rows =========\n",
      "(785300, 290)\n",
      "=========== Impute ===========\n"
     ]
    },
    {
     "name": "stderr",
     "output_type": "stream",
     "text": [
      "[========================================================================] 100%\r"
     ]
    },
    {
     "name": "stdout",
     "output_type": "stream",
     "text": [
      "(785300, 290)\n"
     ]
    },
    {
     "name": "stderr",
     "output_type": "stream",
     "text": [
      "\n"
     ]
    }
   ],
   "source": [
    "# require 2 functions: convert_unknown_value_to_nan(), impute()\n",
    "# the length is 785300 because we execute the pre-processing in a different order, \n",
    "# and the threshold of 30% provides different results. However, it does not affect much\n",
    "cleaned_azdias = clean_dataset(azdias)"
   ]
  },
  {
   "cell_type": "code",
   "execution_count": 39,
   "metadata": {},
   "outputs": [
    {
     "name": "stdout",
     "output_type": "stream",
     "text": [
      "(785300, 452)\n"
     ]
    }
   ],
   "source": [
    "from sklearn.preprocessing import OneHotEncoder\n",
    "\n",
    "OH_encoder = OneHotEncoder(handle_unknown='ignore', sparse=False)\n",
    "\n",
    "cat_features = ['WOHNLAGE', 'ZABEOTYP', 'CJT_KATALOGNUTZER', 'D19_LETZTER_KAUF_BRANCHE', 'KBA05_HERSTTEMP', \n",
    "                'STRUKTURTYP', 'LP_LEBENSPHASE_GROB', 'CJT_GESAMTTYP', 'SHOPPER_TYP', 'GEBAEUDETYP', \n",
    "                'D19_KONSUMTYP', 'FINANZTYP', 'GFK_URLAUBERTYP', 'KBA05_MAXHERST', 'PLZ8_BAUMAX', 'HEALTH_TYP', \n",
    "                'RETOURTYP_BK_S', 'VHA', 'LP_FAMILIE_FEIN', 'LP_FAMILIE_GROB', 'LP_STATUS_FEIN', 'CAMEO_DEUG_2015', \n",
    "                'KBA05_MAXSEG', 'LP_STATUS_GROB', 'NATIONALITAET_KZ']\n",
    "\n",
    "### require 2 functions fit_transform(df, columns, OH_encoder) and transform(df, columns, OH_encoder)\n",
    "cleaned_azdias = fit_transform(cleaned_azdias, cat_features, OH_encoder)\n",
    "print(cleaned_azdias.shape)"
   ]
  },
  {
   "cell_type": "code",
   "execution_count": 41,
   "metadata": {},
   "outputs": [
    {
     "data": {
      "text/plain": [
       "['cache/OH_encoder.save']"
      ]
     },
     "execution_count": 41,
     "metadata": {},
     "output_type": "execute_result"
    }
   ],
   "source": [
    "# save cleaned azdias.pkl\n",
    "cleaned_azdias.to_pickle('data/cleaned_azdias.pkl')\n",
    "\n",
    "# save OH_encoder for customer prediction task (use the same one-hot encoder)\n",
    "import joblib\n",
    "joblib.dump(OH_encoder, 'cache/OH_encoder.save')"
   ]
  },
  {
   "cell_type": "code",
   "execution_count": 42,
   "metadata": {},
   "outputs": [],
   "source": [
    "### With customer data\n",
    "customers = pd.read_csv('data/Udacity_CUSTOMERS_052018.csv', sep=';', dtype={18:'str',19:'str'})"
   ]
  },
  {
   "cell_type": "code",
   "execution_count": 43,
   "metadata": {},
   "outputs": [
    {
     "name": "stdout",
     "output_type": "stream",
     "text": [
      "===== Drop extra columns =====\n",
      "======== Drop columns ========\n",
      "(191652, 288)\n",
      "==== Handle Unknown value ====\n",
      "(191652, 288)\n",
      "======== Modify data =========\n",
      "(191652, 290)\n",
      "========== Drop rows =========\n"
     ]
    },
    {
     "name": "stderr",
     "output_type": "stream",
     "text": [
      "[=========                                                               ]  13%\r"
     ]
    },
    {
     "name": "stdout",
     "output_type": "stream",
     "text": [
      "(140355, 290)\n",
      "=========== Impute ===========\n"
     ]
    },
    {
     "name": "stderr",
     "output_type": "stream",
     "text": [
      "[========================================================================] 100%\r"
     ]
    },
    {
     "name": "stdout",
     "output_type": "stream",
     "text": [
      "(140355, 290)\n"
     ]
    },
    {
     "name": "stderr",
     "output_type": "stream",
     "text": [
      "\n"
     ]
    }
   ],
   "source": [
    "cleaned_customers = clean_dataset(customers, ['CUSTOMER_GROUP', 'ONLINE_PURCHASE', 'PRODUCT_GROUP'])"
   ]
  },
  {
   "cell_type": "code",
   "execution_count": 44,
   "metadata": {},
   "outputs": [
    {
     "name": "stdout",
     "output_type": "stream",
     "text": [
      "(140355, 452)\n"
     ]
    }
   ],
   "source": [
    "# apply One-hot re-encoding\n",
    "cleaned_customers = transform(cleaned_customers, cat_features, OH_encoder)\n",
    "print(cleaned_customers.shape)"
   ]
  },
  {
   "cell_type": "code",
   "execution_count": 45,
   "metadata": {},
   "outputs": [
    {
     "name": "stdout",
     "output_type": "stream",
     "text": [
      "set()\n",
      "set()\n"
     ]
    }
   ],
   "source": [
    "# check if there is any difference between the azdias and customer datasets\n",
    "print(set(cleaned_customers.columns.values).difference(cleaned_azdias.columns.values))\n",
    "print(set(cleaned_azdias.columns.values).difference(cleaned_customers.columns.values))"
   ]
  },
  {
   "cell_type": "code",
   "execution_count": 46,
   "metadata": {},
   "outputs": [],
   "source": [
    "# save cleaned azdias.pkl\n",
    "cleaned_customers.to_pickle('data/cleaned_customers.pkl')"
   ]
  },
  {
   "cell_type": "markdown",
   "metadata": {},
   "source": [
    "## Part 1: Customer Segmentation Report\n",
    "\n",
    "The main bulk of your analysis will come in this part of the project. Here, you should use unsupervised learning techniques to describe the relationship between the demographics of the company's existing customers and the general population of Germany. By the end of this part, you should be able to describe parts of the general population that are more likely to be part of the mail-order company's main customer base, and which parts of the general population are less so."
   ]
  },
  {
   "cell_type": "markdown",
   "metadata": {},
   "source": [
    "## 1.1. Scaler\n",
    "\n",
    "When working with a learning model, it is important to scale the features to a range which is centered around zero. One reason is that if a feature's variance is larger than the variance of other features, that particular feature might dominate other features that we do not want it happens in our model. \n",
    "\n",
    "Standard scaler and Minmax scaler are two popular scalers for this purpose, In the project, Standard scaler is applied."
   ]
  },
  {
   "cell_type": "code",
   "execution_count": 3,
   "metadata": {},
   "outputs": [
    {
     "data": {
      "text/plain": [
       "(785300, 452)"
      ]
     },
     "execution_count": 3,
     "metadata": {},
     "output_type": "execute_result"
    }
   ],
   "source": [
    "# load pickle files if necessary\n",
    "cleaned_azdias = pd.read_pickle('data/cleaned_azdias.pkl')\n",
    "cleaned_azdias.shape"
   ]
  },
  {
   "cell_type": "code",
   "execution_count": 47,
   "metadata": {},
   "outputs": [
    {
     "name": "stdout",
     "output_type": "stream",
     "text": [
      "original shape:    (785300, 452)\n",
      "scaled shape:      (785300, 452)\n"
     ]
    }
   ],
   "source": [
    "# apply StandardScaler\n",
    "# another scaler is MinmaxScaler\n",
    "from sklearn.preprocessing import StandardScaler\n",
    "\n",
    "scaler = StandardScaler()\n",
    "scaled = scaler.fit_transform(cleaned_azdias.astype(float))\n",
    "\n",
    "scaled_azdias = pd.DataFrame(data=scaled, index=cleaned_azdias.index, columns=cleaned_azdias.columns)\n",
    "print(\"original shape:   \", cleaned_azdias.shape)\n",
    "print(\"scaled shape:     \", scaled_azdias.shape)"
   ]
  },
  {
   "cell_type": "markdown",
   "metadata": {},
   "source": [
    "## 1.2. Dimensionality Reduction\n",
    "\n",
    "When the number of features increases, we often face overfitting issues (a model becomes too heavy to generalize data). Dimensionality reduction is a very important technique that helps us to create models that are lighter but more accurate thanks to the reduction of misleading data. In addition, it helps to reduce computing power and storage so the training time is shortened.\n",
    "\n",
    "The popular methods used for dimensionality reduction include: \n",
    "* Principal Component Analysis (PCA) \n",
    "* Linear Discriminant Analysis (LDA) \n",
    "* Generalized Discriminant Analysis (GDA)\n",
    "\n",
    "In this project, PCA algorithm is used"
   ]
  },
  {
   "cell_type": "code",
   "execution_count": 48,
   "metadata": {},
   "outputs": [],
   "source": [
    "# apply PCA\n",
    "from sklearn.decomposition import PCA\n",
    "\n",
    "pca = PCA()\n",
    "\n",
    "pca_azdias = pca.fit_transform(scaled_azdias)"
   ]
  },
  {
   "cell_type": "code",
   "execution_count": 49,
   "metadata": {},
   "outputs": [],
   "source": [
    "# investigate the variance accounted for by each principal component.\n",
    "variance = pca.explained_variance_ratio_\n",
    "\n",
    "cumsum_variance=np.cumsum(np.round(pca.explained_variance_ratio_, decimals=3)*100)"
   ]
  },
  {
   "cell_type": "code",
   "execution_count": 50,
   "metadata": {},
   "outputs": [
    {
     "data": {
      "image/png": "[encoded data removed]",
      "text/plain": [
       "<Figure size 1080x720 with 2 Axes>"
      ]
     },
     "metadata": {
      "needs_background": "light"
     },
     "output_type": "display_data"
    }
   ],
   "source": [
    "n_components = len(pca.explained_variance_ratio_)\n",
    "index = np.arange(n_components)\n",
    "vals = pca.explained_variance_ratio_\n",
    "\n",
    "plt.figure(figsize=(15,10))\n",
    "plt.subplot(2, 1, 1)\n",
    "plt.bar(index, cumsum_variance)\n",
    "plt.ylabel('% Cumulative Explained Variance')\n",
    "plt.xlabel('Number of Components')\n",
    "plt.xticks(np.linspace(0,500, 10, endpoint=False))\n",
    "plt.title('PCA Analysis')\n",
    "\n",
    "# 100 components\n",
    "plt.hlines(y=67, xmin=0, xmax=100, color='red', linestyles='-',zorder=1)\n",
    "plt.vlines(x=100, ymin=0, ymax=67, color='red', linestyles='-',zorder=2)\n",
    "\n",
    "# 150 components\n",
    "plt.hlines(y=75, xmin=0, xmax=150, color='red', linestyles='-',zorder=3)\n",
    "plt.vlines(x=150, ymin=0, ymax=75, color='red', linestyles='-',zorder=4)\n",
    "\n",
    "# 200 components\n",
    "plt.hlines(y=80, xmin=0, xmax=200, color='red', linestyles='-',zorder=5)\n",
    "plt.vlines(x=200, ymin=0, ymax=80, color='red', linestyles='-',zorder=6)\n",
    "\n",
    "plt.subplot(2, 1, 2)\n",
    "plt.bar(index, vals)\n",
    "plt.xticks(np.linspace(0,500, 10, endpoint=False))\n",
    "plt.xlabel('Number of Components')\n",
    "plt.ylabel('% Explained Cariance')\n",
    "plt.title('PCA Analysis');"
   ]
  },
  {
   "cell_type": "code",
   "execution_count": 51,
   "metadata": {},
   "outputs": [
    {
     "name": "stdout",
     "output_type": "stream",
     "text": [
      "150-component has a cumulative explained variane of: 0.7546209063469128\n"
     ]
    }
   ],
   "source": [
    "n_components = 150 # about 75% explained variance\n",
    "print(f'{n_components}-component has a cumulative explained variane of: {sum(pca.explained_variance_ratio_[:n_components])}')"
   ]
  },
  {
   "cell_type": "code",
   "execution_count": 52,
   "metadata": {},
   "outputs": [
    {
     "name": "stdout",
     "output_type": "stream",
     "text": [
      "CPU times: user 1min 16s, sys: 3.19 s, total: 1min 19s\n",
      "Wall time: 20.9 s\n"
     ]
    }
   ],
   "source": [
    "%%time\n",
    "\n",
    "# re-fitting with n components = 150\n",
    "pca = PCA(n_components=n_components)\n",
    "\n",
    "pca_azdias = pca.fit_transform(scaled_azdias)"
   ]
  },
  {
   "cell_type": "code",
   "execution_count": 53,
   "metadata": {},
   "outputs": [],
   "source": [
    "def interpret_pca(df, pca, component):\n",
    "    '''\n",
    "    Maps each weight to its corresponding feature name and sorts according to weight.\n",
    "    Args:\n",
    "        df (dataframe): dataframe on which pca has been used on.\n",
    "        pca (pca): pca object.\n",
    "        component (int): which principal compenent to return\n",
    "    Returns:\n",
    "        df_pca (dataframe): dataframe for specified component containing the explained variance\n",
    "                            and all features and weights sorted according to weight.\n",
    "    '''\n",
    "    df_pca = pd.DataFrame(columns=list(df.columns))\n",
    "    df_pca.loc[0] = pca.components_[component]\n",
    "    dim_index = \"Dimension: {}\".format(component + 1)\n",
    "\n",
    "    df_pca.index = [dim_index]\n",
    "    df_pca = df_pca.loc[:, df_pca.max().sort_values(ascending=False).index]\n",
    "\n",
    "    ratio = np.round(pca.explained_variance_ratio_[component], 4)\n",
    "    df_pca['Explained Variance'] = ratio\n",
    "\n",
    "    cols = list(df_pca.columns)\n",
    "    cols = cols[-1:] + cols[:-1]\n",
    "    df_pca = df_pca[cols]\n",
    "\n",
    "    return df_pca"
   ]
  },
  {
   "cell_type": "code",
   "execution_count": 54,
   "metadata": {
    "scrolled": true
   },
   "outputs": [],
   "source": [
    "# for display purpose\n",
    "\n",
    "# dim1 = interpret_pca(scaled_azdias, pca, 0)\n",
    "# with pd.option_context(\"display.max_rows\", 500, \"display.max_columns\", 1000):\n",
    "#     display(dim1.T)"
   ]
  },
  {
   "cell_type": "markdown",
   "metadata": {},
   "source": [
    "## 1.3 Clustering"
   ]
  },
  {
   "cell_type": "markdown",
   "metadata": {},
   "source": [
    "To date, there are various algorithms that can be applied to divide the general population and customer population into different clusters. A list of 10 of the popular algorithms is as follows:\n",
    "* Affinity Propagation\t\n",
    "* K-Means\n",
    "* Spectral Clustering\n",
    "* Agglomerative Clustering\n",
    "* Mini-Batch K-Means\n",
    "* Mixture of Gaussians \n",
    "* BIRCH\t\n",
    "* Mean Shift\t\n",
    "* DBSCAN\n",
    "* OPTICS\t\n",
    "\n",
    "In this project, K-Means clustering is selected since this algorithm is simple and the implementation is not complex. "
   ]
  },
  {
   "cell_type": "markdown",
   "metadata": {},
   "source": [
    "### 1.2.1. Develope model"
   ]
  },
  {
   "cell_type": "code",
   "execution_count": 55,
   "metadata": {},
   "outputs": [
    {
     "name": "stdout",
     "output_type": "stream",
     "text": [
      "CPU times: user 5min 48s, sys: 10.6 s, total: 5min 59s\n",
      "Wall time: 1min 12s\n"
     ]
    }
   ],
   "source": [
    "%%time\n",
    "\n",
    "from sklearn.cluster import KMeans, MiniBatchKMeans\n",
    "\n",
    "# Number of clusters is from 2 to 25\n",
    "n_clusters = np.arange(2, 25)\n",
    "\n",
    "# run K-Means clustering on the data and compute the average within-cluster distances.\n",
    "scores = [MiniBatchKMeans(i).fit(pca_azdias).score(pca_azdias) for i in n_clusters]"
   ]
  },
  {
   "cell_type": "code",
   "execution_count": 56,
   "metadata": {},
   "outputs": [
    {
     "data": {
      "image/png": "[encoded data removed]",
      "text/plain": [
       "<Figure size 432x288 with 1 Axes>"
      ]
     },
     "metadata": {
      "needs_background": "light"
     },
     "output_type": "display_data"
    }
   ],
   "source": [
    "# elbow method\n",
    "plt.ylabel('SSE')\n",
    "plt.xlabel('# Clusters')\n",
    "plt.title('SSE vs Clusters')\n",
    "plt.plot(n_clusters, np.abs(scores), linestyle='-', marker='o', color='red');"
   ]
  },
  {
   "cell_type": "code",
   "execution_count": 57,
   "metadata": {},
   "outputs": [
    {
     "name": "stdout",
     "output_type": "stream",
     "text": [
      "CPU times: user 9min 47s, sys: 3.4 s, total: 9min 51s\n",
      "Wall time: 1min 4s\n"
     ]
    }
   ],
   "source": [
    "%%time\n",
    "# re-fith with 12 clusters\n",
    "kmeans = KMeans(n_clusters=12)\n",
    "\n",
    "# general population predictions\n",
    "predicted_azdias = kmeans.fit_predict(pca_azdias)"
   ]
  },
  {
   "cell_type": "code",
   "execution_count": 58,
   "metadata": {},
   "outputs": [
    {
     "name": "stdout",
     "output_type": "stream",
     "text": [
      "Parameters saved in cache!\n"
     ]
    }
   ],
   "source": [
    "import joblib\n",
    "\n",
    "joblib.dump(scaler, 'cache/scaler.save')\n",
    "joblib.dump(pca, 'cache/pca.save')\n",
    "joblib.dump(kmeans, 'cache/kmeans.save')\n",
    "\n",
    "print('Parameters saved in cache!')"
   ]
  },
  {
   "cell_type": "markdown",
   "metadata": {},
   "source": [
    "### 1.2.2. Clustering"
   ]
  },
  {
   "cell_type": "code",
   "execution_count": 3,
   "metadata": {},
   "outputs": [
    {
     "name": "stdout",
     "output_type": "stream",
     "text": [
      "(785300, 452)\n",
      "(140355, 452)\n"
     ]
    }
   ],
   "source": [
    "### load pkl files if restarting the kernel\n",
    "cleaned_azdias = pd.read_pickle('data/cleaned_azdias.pkl')\n",
    "print(cleaned_azdias.shape)\n",
    "\n",
    "cleaned_customers = pd.read_pickle('data/cleaned_customers.pkl')\n",
    "print(cleaned_customers.shape)"
   ]
  },
  {
   "cell_type": "code",
   "execution_count": 60,
   "metadata": {},
   "outputs": [
    {
     "name": "stdout",
     "output_type": "stream",
     "text": [
      "Successfully loaded parameters!\n"
     ]
    }
   ],
   "source": [
    "import joblib\n",
    "\n",
    "### load the saved parameters if restarting the kernel\n",
    "scaler = joblib.load('cache/scaler.save')\n",
    "pca = joblib.load('cache/pca.save')\n",
    "kmeans = joblib.load('cache/kmeans.save')\n",
    "\n",
    "print('Successfully loaded parameters!')"
   ]
  },
  {
   "cell_type": "code",
   "execution_count": 61,
   "metadata": {},
   "outputs": [],
   "source": [
    "def clusters_predict(df, scaler, pca, kmeans):\n",
    "    '''\n",
    "    Applies scaler, pca and predicts clusters on a cleaned dataset.\n",
    "    '''\n",
    "    LNR = np.zeros(df.shape[0])\n",
    "    if 'LNR' in df.columns:\n",
    "        LNR = df['LNR'].values\n",
    "        df.drop(['LNR'], axis=1, inplace=True)\n",
    "\n",
    "    df_scaled = scaler.transform(df.astype('float'))\n",
    "    df_pca = pca.transform(df_scaled)\n",
    "    df_preds = kmeans.predict(df_pca)\n",
    "\n",
    "    df_clusters = pd.DataFrame({'LNR': LNR, 'Clusters': df_preds})\n",
    "\n",
    "    return df_clusters"
   ]
  },
  {
   "cell_type": "code",
   "execution_count": 62,
   "metadata": {},
   "outputs": [],
   "source": [
    "# predict clusters\n",
    "azdias_preds = clusters_predict(cleaned_azdias, scaler, pca, kmeans)\n",
    "customers_preds = clusters_predict(cleaned_customers, scaler, pca, kmeans)"
   ]
  },
  {
   "cell_type": "code",
   "execution_count": 63,
   "metadata": {},
   "outputs": [],
   "source": [
    "from collections import Counter\n",
    "\n",
    "# count individual by cluster\n",
    "azdias_proportions = Counter(azdias_preds['Clusters'])\n",
    "customers_proportions = Counter(customers_preds['Clusters'])\n",
    "\n",
    "# get proportion by cluster\n",
    "len_azdias = cleaned_azdias.shape[0]\n",
    "len_customers = cleaned_customers.shape[0]\n",
    "\n",
    "for idx, num in azdias_proportions.items():\n",
    "    azdias_proportions[idx] = num / len_azdias\n",
    "    \n",
    "for idx, num in customers_proportions.items():\n",
    "    customers_proportions[idx] = num / len_customers"
   ]
  },
  {
   "cell_type": "code",
   "execution_count": 64,
   "metadata": {},
   "outputs": [
    {
     "data": {
      "image/png": "[encoded data removed]",
      "text/plain": [
       "<Figure size 1080x360 with 1 Axes>"
      ]
     },
     "metadata": {
      "needs_background": "light"
     },
     "output_type": "display_data"
    }
   ],
   "source": [
    "# display proportion\n",
    "df_props = pd.DataFrame(columns=[\"Dataset\", \"Cluster\", \"Proportions\", 'Difference'])\n",
    "\n",
    "for idx, prop in customers_proportions.items():\n",
    "    df_props = df_props.append({\"Dataset\" : \"Customers\", \"Cluster\": idx, \"Proportions\": prop}, ignore_index=True)\n",
    "\n",
    "for idx, prop in azdias_proportions.items():\n",
    "    df_props = df_props.append({\"Dataset\" : \"Azdias\", \"Cluster\": idx, \"Proportions\": prop}, ignore_index=True)\n",
    "\n",
    "fig = plt.figure(figsize=(15,5))\n",
    "sns.barplot(x=\"Cluster\", y=\"Proportions\", hue=\"Dataset\", data=df_props);"
   ]
  },
  {
   "cell_type": "code",
   "execution_count": 65,
   "metadata": {},
   "outputs": [
    {
     "data": {
      "image/png": "[encoded data removed]",
      "text/plain": [
       "<Figure size 1080x360 with 1 Axes>"
      ]
     },
     "metadata": {
      "needs_background": "light"
     },
     "output_type": "display_data"
    }
   ],
   "source": [
    "df_difference = pd.DataFrame(columns=['Cluster', 'Difference'])\n",
    "\n",
    "for idx, azdias_props in azdias_proportions.items():\n",
    "    diff = customers_proportions[idx] - azdias_props\n",
    "    df_difference = df_difference.append({\"Cluster\": idx, \"Difference\": diff}, ignore_index=True)\n",
    "\n",
    "fig = plt.figure(figsize=(15,5))\n",
    "ax = sns.barplot(x = df_difference['Cluster'], y = df_difference['Difference'])\n",
    "ax.set(title=f'Difference in proportion between dataset', ylabel='Proportion', xlabel='Clusters');"
   ]
  },
  {
   "cell_type": "code",
   "execution_count": 66,
   "metadata": {},
   "outputs": [],
   "source": [
    "target_cluster = 5\n",
    "general_cluster = 1"
   ]
  },
  {
   "cell_type": "markdown",
   "metadata": {},
   "source": [
    "## 1.3. Analysis"
   ]
  },
  {
   "cell_type": "markdown",
   "metadata": {},
   "source": [
    "We look at the distribution of the two clusters to find out the common characteristics of target group and general group (i.e. the group with less individual that potentially become new customers)\n",
    "\n",
    "Analyzing  all attributes is an exhausted task. For learning purpose, we can pick some attributes of which the distribution trend is clearly distinguished\n",
    " * HH_EINKOMMEN_SCORE: estimated household_net_income \n",
    " * ALTERSKATEGORIE_GROB: age classification through prename analysis \n",
    " * GENERATION_DECADE: separated from PRAEGENDE_JUGENDJAHRE \n",
    " * FINANZ_SPARER: financial typology: money saver\n",
    " * MOBI_REGIO: moving patterns\n",
    " * LP_STATUS_GROB: social status rough"
   ]
  },
  {
   "cell_type": "code",
   "execution_count": 67,
   "metadata": {},
   "outputs": [],
   "source": [
    "# get predictions\n",
    "df_preds_azdias = pd.DataFrame(azdias_preds['Clusters'].values, columns = ['Cluster'])\n",
    "df_preds_customers = pd.DataFrame(customers_preds['Clusters'].values, columns = ['Cluster'])"
   ]
  },
  {
   "cell_type": "code",
   "execution_count": 68,
   "metadata": {},
   "outputs": [],
   "source": [
    "target_customers = df_preds_customers[df_preds_customers['Cluster'] == target_cluster].index\n",
    "general_azdias = df_preds_azdias[df_preds_azdias['Cluster'] == general_cluster].index\n",
    "\n",
    "df_target_customers = cleaned_customers.iloc[target_customers]\n",
    "df_general_azdias = cleaned_azdias.iloc[general_azdias]"
   ]
  },
  {
   "cell_type": "code",
   "execution_count": 70,
   "metadata": {},
   "outputs": [],
   "source": [
    "def plot_comparison(column, df_target_customers, df_general_azdias, clusters=[8,12]):\n",
    "    '''\n",
    "    Plots the distribution for a feature.\n",
    "    \n",
    "    Args:\n",
    "        column (string) - feature to plot.\n",
    "        df_target_customers (dataframe) - customer population cluster.\n",
    "        df_general_azdias (dataframe) - general population cluster.\n",
    "        clusters (list) - ints to use when pritting out title.\n",
    "    '''   \n",
    "    sns.set(style=\"darkgrid\")\n",
    "    fig, (ax1, ax2) = plt.subplots(figsize=(12,4), ncols=2)\n",
    "    sns.countplot(x=column, data=df_target_customers, ax=ax1, palette=\"Set2\")\n",
    "    ax1.set_xlabel('Value')\n",
    "    ax1.set_title(f'Distribution of Customers (cluster: {clusters[0]})')\n",
    "    sns.countplot(x=column, data=df_general_azdias, ax=ax2, palette=\"Set2\")\n",
    "    ax2.set_xlabel('Value')\n",
    "    ax2.set_title(f'Distribution of Azdias (cluster: {clusters[1]})')\n",
    "    fig.suptitle(f'Feature: {column}')\n",
    "    \n",
    "    print('Mean of customers: ', sum(df_target_customers[column])/len(df_target_customers[column]))\n",
    "    print('Mean of azdias   : ', sum(df_general_azdias[column])/len(df_general_azdias[column]))"
   ]
  },
  {
   "cell_type": "code",
   "execution_count": 73,
   "metadata": {},
   "outputs": [
    {
     "name": "stdout",
     "output_type": "stream",
     "text": [
      "Mean of customers:  2.2144885611980314\n",
      "Mean of azdias   :  4.51022592606751\n"
     ]
    },
    {
     "data": {
      "image/png": "[encoded data removed]",
      "text/plain": [
       "<Figure size 864x288 with 2 Axes>"
      ]
     },
     "metadata": {},
     "output_type": "display_data"
    }
   ],
   "source": [
    "### Finding #1: Target customers likely have high net income\n",
    "plot_comparison('HH_EINKOMMEN_SCORE', df_target_customers, df_general_azdias, [target_cluster, general_cluster])"
   ]
  },
  {
   "cell_type": "code",
   "execution_count": 77,
   "metadata": {},
   "outputs": [
    {
     "name": "stdout",
     "output_type": "stream",
     "text": [
      "Mean of customers:  3.6285432063923238\n",
      "Mean of azdias   :  1.9325662295959325\n"
     ]
    },
    {
     "data": {
      "image/png": "[encoded data removed]",
      "text/plain": [
       "<Figure size 864x288 with 2 Axes>"
      ]
     },
     "metadata": {},
     "output_type": "display_data"
    }
   ],
   "source": [
    "### Finding #2: Target customers are almost 46 years old or even higher\n",
    "plot_comparison('ALTERSKATEGORIE_GROB', df_target_customers, df_general_azdias, [target_cluster, general_cluster])"
   ]
  },
  {
   "cell_type": "code",
   "execution_count": 78,
   "metadata": {},
   "outputs": [
    {
     "name": "stdout",
     "output_type": "stream",
     "text": [
      "Mean of customers:  1.1786993103204981\n",
      "Mean of azdias   :  4.124928322948125\n"
     ]
    },
    {
     "data": {
      "image/png": "[encoded data removed]",
      "text/plain": [
       "<Figure size 864x288 with 2 Axes>"
      ]
     },
     "metadata": {},
     "output_type": "display_data"
    }
   ],
   "source": [
    "### Finding #3: Target customers are potentially money saver\n",
    "plot_comparison('FINANZ_SPARER', df_target_customers, df_general_azdias, [target_cluster, general_cluster])"
   ]
  },
  {
   "cell_type": "code",
   "execution_count": 79,
   "metadata": {},
   "outputs": [
    {
     "name": "stdout",
     "output_type": "stream",
     "text": [
      "Mean of customers:  5.557511509357417\n",
      "Mean of azdias   :  8.702932069268703\n"
     ]
    },
    {
     "data": {
      "image/png": "[encoded data removed]",
      "text/plain": [
       "<Figure size 864x288 with 2 Axes>"
      ]
     },
     "metadata": {},
     "output_type": "display_data"
    }
   ],
   "source": [
    "### Cannot found any thing here because the number of unknown value (i.e. 9) in Azdias distribution is high ~50000\n",
    "### As for customers, it is clear that their youths are in 50, 60ies\n",
    "plot_comparison('GENERATION_DECADE', df_target_customers, df_general_azdias, [target_cluster, general_cluster])"
   ]
  },
  {
   "cell_type": "code",
   "execution_count": 81,
   "metadata": {},
   "outputs": [
    {
     "name": "stdout",
     "output_type": "stream",
     "text": [
      "Mean of customers:  4.221438272802639\n",
      "Mean of azdias   :  3.3494909336493497\n"
     ]
    },
    {
     "data": {
      "image/png": "[encoded data removed]",
      "text/plain": [
       "<Figure size 864x288 with 2 Axes>"
      ]
     },
     "metadata": {},
     "output_type": "display_data"
    }
   ],
   "source": [
    "### Finding #4: Target customers have lower moving patterns\n",
    "plot_comparison('MOBI_REGIO', df_target_customers, df_general_azdias, [target_cluster, general_cluster])"
   ]
  },
  {
   "cell_type": "code",
   "execution_count": 82,
   "metadata": {},
   "outputs": [
    {
     "name": "stdout",
     "output_type": "stream",
     "text": [
      "Mean of customers:  0.00336902263065987\n",
      "Mean of azdias   :  0.3501917759343502\n",
      "Mean of customers:  0.7819483886899617\n",
      "Mean of azdias   :  0.053276756247053275\n"
     ]
    },
    {
     "data": {
      "image/png": "[encoded data removed]",
      "text/plain": [
       "<Figure size 864x288 with 2 Axes>"
      ]
     },
     "metadata": {},
     "output_type": "display_data"
    },
    {
     "data": {
      "image/png": "[encoded data removed]",
      "text/plain": [
       "<Figure size 864x288 with 2 Axes>"
      ]
     },
     "metadata": {},
     "output_type": "display_data"
    }
   ],
   "source": [
    "### Finding #5: Target customers are top earners in terms of social status\n",
    "plot_comparison('LP_STATUS_GROB_1.0', df_target_customers, df_general_azdias, [target_cluster, general_cluster])\n",
    "plot_comparison('LP_STATUS_GROB_5.0', df_target_customers, df_general_azdias, [target_cluster, general_cluster])"
   ]
  },
  {
   "cell_type": "markdown",
   "metadata": {},
   "source": [
    "## Part 2: Supervised Learning Model for Customer Predictions\n",
    "\n",
    "Now that you've found which parts of the population are more likely to be customers of the mail-order company, it's time to build a prediction model. Each of the rows in the \"MAILOUT\" data files represents an individual that was targeted for a mailout campaign. Ideally, we should be able to use the demographic information from each individual to decide whether or not it will be worth it to include that person in the campaign.\n",
    "\n",
    "The \"MAILOUT\" data has been split into two approximately equal parts, each with almost 43 000 data rows. In this part, you can verify your model with the \"TRAIN\" partition, which includes a column, \"RESPONSE\", that states whether or not a person became a customer of the company following the campaign. In the next part, you'll need to create predictions on the \"TEST\" partition, where the \"RESPONSE\" column has been withheld."
   ]
  },
  {
   "cell_type": "code",
   "execution_count": 83,
   "metadata": {},
   "outputs": [
    {
     "data": {
      "text/plain": [
       "((42962, 367), (42833, 366))"
      ]
     },
     "execution_count": 83,
     "metadata": {},
     "output_type": "execute_result"
    }
   ],
   "source": [
    "# load the third and fourth datasets (for campaign)\n",
    "mailout_train = pd.read_csv('data/Udacity_MAILOUT_052018_TRAIN.csv', sep=';', dtype={18:'str',19:'str'})\n",
    "mailout_test = pd.read_csv('data/Udacity_MAILOUT_052018_TEST.csv', sep=';', dtype={18:'str',19:'str'})\n",
    "\n",
    "mailout_train.shape, mailout_test.shape"
   ]
  },
  {
   "cell_type": "code",
   "execution_count": 84,
   "metadata": {},
   "outputs": [
    {
     "data": {
      "image/png": "[encoded data removed]",
      "text/plain": [
       "<Figure size 432x288 with 1 Axes>"
      ]
     },
     "metadata": {},
     "output_type": "display_data"
    }
   ],
   "source": [
    "# get labels\n",
    "label = mailout_train['RESPONSE']\n",
    "mailout_train_dropped = mailout_train.drop('RESPONSE', axis=1)\n",
    "\n",
    "# there is a large label imbalance\n",
    "sns.countplot(label).set_title(\"Distribution of Label\");"
   ]
  },
  {
   "cell_type": "markdown",
   "metadata": {},
   "source": [
    "## 2.0. Data processing"
   ]
  },
  {
   "cell_type": "code",
   "execution_count": 85,
   "metadata": {},
   "outputs": [
    {
     "name": "stdout",
     "output_type": "stream",
     "text": [
      "===== Drop extra columns =====\n",
      "======== Drop columns ========\n",
      "(42962, 288)\n",
      "==== Handle Unknown value ====\n",
      "(42962, 288)\n",
      "======== Modify data =========\n",
      "(42962, 290)\n",
      "=========== Impute ===========\n"
     ]
    },
    {
     "name": "stderr",
     "output_type": "stream",
     "text": [
      "[========================================================================] 100%\n"
     ]
    },
    {
     "name": "stdout",
     "output_type": "stream",
     "text": [
      "(42962, 290)\n",
      "Training set's shape after data cleaning:  (42962, 290)\n",
      "=====================================================\n",
      "===== Drop extra columns =====\n",
      "======== Drop columns ========\n",
      "(42833, 288)\n",
      "==== Handle Unknown value ====\n",
      "(42833, 288)\n",
      "======== Modify data =========\n"
     ]
    },
    {
     "name": "stderr",
     "output_type": "stream",
     "text": [
      "[==========================                                              ]  37%\r"
     ]
    },
    {
     "name": "stdout",
     "output_type": "stream",
     "text": [
      "(42833, 290)\n",
      "=========== Impute ===========\n"
     ]
    },
    {
     "name": "stderr",
     "output_type": "stream",
     "text": [
      "[========================================================================] 100%\r"
     ]
    },
    {
     "name": "stdout",
     "output_type": "stream",
     "text": [
      "(42833, 290)\n",
      "Test set 's shape after data cleaning:  (42833, 290)\n"
     ]
    },
    {
     "name": "stderr",
     "output_type": "stream",
     "text": [
      "\n"
     ]
    }
   ],
   "source": [
    "# data cleaning (except re-encoding)\n",
    "mailout_train_cleaned = clean_dataset(mailout_train_dropped, drop_rows = False)\n",
    "print('Training set\\'s shape after data cleaning: ',mailout_train_cleaned.shape)\n",
    "print('=====================================================')\n",
    "\n",
    "mailout_test_cleaned = clean_dataset(mailout_test, drop_rows = False)\n",
    "print('Test set \\'s shape after data cleaning: ',mailout_test_cleaned .shape)"
   ]
  },
  {
   "cell_type": "code",
   "execution_count": 86,
   "metadata": {},
   "outputs": [
    {
     "name": "stdout",
     "output_type": "stream",
     "text": [
      "Training set's shape after data processing:  (42962, 452)\n",
      "Test set 's shape after data processing:     (42833, 452)\n"
     ]
    }
   ],
   "source": [
    "from sklearn.preprocessing import OneHotEncoder\n",
    "\n",
    "# apply one-hot re-encoder\n",
    "OH_encoder = joblib.load('cache/OH_encoder.save')\n",
    "\n",
    "cat_features = ['WOHNLAGE', 'ZABEOTYP', 'CJT_KATALOGNUTZER', 'D19_LETZTER_KAUF_BRANCHE', 'KBA05_HERSTTEMP', \n",
    "                'STRUKTURTYP', 'LP_LEBENSPHASE_GROB', 'CJT_GESAMTTYP', 'SHOPPER_TYP', 'GEBAEUDETYP', \n",
    "                'D19_KONSUMTYP', 'FINANZTYP', 'GFK_URLAUBERTYP', 'KBA05_MAXHERST', 'PLZ8_BAUMAX', 'HEALTH_TYP', \n",
    "                'RETOURTYP_BK_S', 'VHA', 'LP_FAMILIE_FEIN', 'LP_FAMILIE_GROB', 'LP_STATUS_FEIN', 'CAMEO_DEUG_2015', \n",
    "                'KBA05_MAXSEG', 'LP_STATUS_GROB', 'NATIONALITAET_KZ']\n",
    "\n",
    "mailout_train_cleaned  = transform(mailout_train_cleaned, cat_features, OH_encoder)\n",
    "mailout_test_cleaned  = transform(mailout_test_cleaned, cat_features, OH_encoder)\n",
    "\n",
    "print('Training set\\'s shape after data processing: ',mailout_train_cleaned.shape)\n",
    "print('Test set \\'s shape after data processing:    ',mailout_test_cleaned .shape)"
   ]
  },
  {
   "cell_type": "code",
   "execution_count": 88,
   "metadata": {},
   "outputs": [
    {
     "name": "stdout",
     "output_type": "stream",
     "text": [
      "Training set's shape after scaling:  (42962, 452)\n",
      "Test set's shape after scaling:     (42833, 452)\n"
     ]
    }
   ],
   "source": [
    "from sklearn.preprocessing import StandardScaler\n",
    "\n",
    "# apply Standard Scaler (must be similar to Customer Segmentation)\n",
    "scaler = StandardScaler()\n",
    "scaler.fit_transform(mailout_train_cleaned.astype('float'))\n",
    "\n",
    "mailout_train_cleaned_scaled = scaler.transform(mailout_train_cleaned)\n",
    "mailout_test_cleaned_scaled = scaler.transform(mailout_test_cleaned)\n",
    "\n",
    "mailout_train_cleaned_scaled = pd.DataFrame(data=mailout_train_cleaned_scaled, columns=mailout_train_cleaned.columns)\n",
    "mailout_test_cleaned_scaled = pd.DataFrame(data=mailout_test_cleaned_scaled, columns=mailout_test_cleaned.columns)\n",
    "\n",
    "print('Training set\\'s shape after scaling: ',mailout_train_cleaned_scaled.shape)\n",
    "print('Test set\\'s shape after scaling:    ',mailout_test_cleaned_scaled.shape)"
   ]
  },
  {
   "cell_type": "code",
   "execution_count": 89,
   "metadata": {},
   "outputs": [],
   "source": [
    "# save the proceeded datasets\n",
    "mailout_train_cleaned_scaled.to_pickle('data/mailout_train_cleaned_scaled.pkl')\n",
    "mailout_test_cleaned_scaled.to_pickle('data/mailout_test_cleaned_scaled.pkl')"
   ]
  },
  {
   "cell_type": "markdown",
   "metadata": {},
   "source": [
    "## 2.1. Examine supervised learning algorithms with default settings"
   ]
  },
  {
   "cell_type": "code",
   "execution_count": 90,
   "metadata": {},
   "outputs": [],
   "source": [
    "from sklearn.metrics import roc_auc_score\n",
    "from sklearn.model_selection import train_test_split, StratifiedKFold, cross_val_score, RandomizedSearchCV, GridSearchCV\n",
    "\n",
    "from sklearn.ensemble import RandomForestClassifier, GradientBoostingClassifier\n",
    "from sklearn.linear_model import LogisticRegression\n",
    "from sklearn.neural_network import MLPClassifier\n",
    "from sklearn.model_selection import StratifiedKFold, learning_curve\n",
    "\n",
    "import xgboost as xgb\n",
    "import lightgbm as lgb"
   ]
  },
  {
   "cell_type": "code",
   "execution_count": 91,
   "metadata": {},
   "outputs": [],
   "source": [
    "# load the proceeded datasets\n",
    "mailout_train_cleaned_scaled = pd.read_pickle('data/mailout_train_cleaned_scaled.pkl')\n",
    "mailout_test_cleaned_scaled = pd.read_pickle('data/mailout_test_cleaned_scaled.pkl')"
   ]
  },
  {
   "cell_type": "code",
   "execution_count": 92,
   "metadata": {},
   "outputs": [],
   "source": [
    "# same setting for random_state\n",
    "SEED = 30"
   ]
  },
  {
   "cell_type": "code",
   "execution_count": 93,
   "metadata": {},
   "outputs": [
    {
     "data": {
      "text/plain": [
       "5"
      ]
     },
     "execution_count": 93,
     "metadata": {},
     "output_type": "execute_result"
    }
   ],
   "source": [
    "### stratified K-Folds cross-validator with K = 5\n",
    "skf = StratifiedKFold(n_splits=5, random_state=SEED, shuffle=True)\n",
    "skf.get_n_splits(mailout_train_cleaned_scaled, label)"
   ]
  },
  {
   "cell_type": "code",
   "execution_count": 94,
   "metadata": {},
   "outputs": [],
   "source": [
    "def get_base_models():\n",
    "    '''\n",
    "    Get 6 models with default settings\n",
    "    '''\n",
    "    basedModels = []\n",
    "    basedModels.append(('LR', LogisticRegression(solver='liblinear', random_state=SEED)))\n",
    "    basedModels.append(('RF', RandomForestClassifier(random_state=SEED)))\n",
    "    basedModels.append(('XGB', xgb.XGBClassifier(random_state=SEED)))\n",
    "    basedModels.append(('LGBM', lgb.LGBMClassifier(random_state=SEED)))\n",
    "    basedModels.append(('GB', GradientBoostingClassifier(random_state=SEED)))\n",
    "    basedModels.append(('MLP', MLPClassifier(random_state=SEED)))\n",
    "    \n",
    "    return basedModels"
   ]
  },
  {
   "cell_type": "code",
   "execution_count": 95,
   "metadata": {},
   "outputs": [],
   "source": [
    "def evaluate(features, label, models, curve=False):\n",
    "    '''\n",
    "    Evaluate models using K-Fold cross-validation and plot learning curve (optional).\n",
    "    \n",
    "    Input:\n",
    "        features (dataframe) - dataset to be used for training.\n",
    "        label (dataframe) - target variable\n",
    "        models (list) - list of models to be evaluated.\n",
    "        curve (bool) - whether or not to plot learning curve.\n",
    "\n",
    "    Output:\n",
    "        names (list) - list of models tested.\n",
    "        results (list) - list of results for each model.\n",
    "    '''\n",
    "    results = []\n",
    "    names = []\n",
    "    for name, model in models:\n",
    "        # evaluate a score by cross-validation \n",
    "        result = cross_val_score(model, features, label, cv=skf, scoring='roc_auc', n_jobs=-1)\n",
    "        msg = \"%s: %f (std: %f)\" % (name, result.mean(), result.std())\n",
    "        print(msg)\n",
    "        \n",
    "        # append result to list\n",
    "        results.append(result)\n",
    "        names.append(name)\n",
    "        \n",
    "        # plot result\n",
    "        if curve:\n",
    "            train_sizes, train_scores, test_scores = learning_curve(model, features, label, cv=skf, scoring = 'roc_auc', \n",
    "                                                                    train_sizes=np.linspace(.1, 1.0, 10), n_jobs=-1)\n",
    "\n",
    "            train_scores_mean = np.mean(train_scores, axis=1)\n",
    "            test_scores_mean = np.mean(test_scores, axis=1)\n",
    "            print(\"ROC-AUC train score = {}\".format(train_scores_mean[-1].round(2)))\n",
    "            print(\"ROC-AUC validation score = {}\".format(test_scores_mean[-1].round(2)))\n",
    "            \n",
    "            plt.grid()\n",
    "            plt.title(\"Learning Curve\")\n",
    "            plt.xlabel(\"Percent of training set\")\n",
    "            plt.ylabel(\"Score\")\n",
    "            plt.plot(np.linspace(.1, 1.0, 10)*100, train_scores_mean, 'o-.', color=\"b\", label=\"Training score\")\n",
    "            plt.plot(np.linspace(.1, 1.0, 10)*100, test_scores_mean, 'x-', color=\"r\", label=\"Validation score\")\n",
    "\n",
    "            plt.yticks(np.arange(0.50, 1.00, 0.05)) # only from 45% to 100%\n",
    "            plt.xticks(np.arange(0., 100.05, 10)) # 10 points from 10% to 100% \n",
    "            plt.legend(loc=\"best\")\n",
    "            print(\"\")\n",
    "            plt.show()\n",
    "        \n",
    "    return names, results"
   ]
  },
  {
   "cell_type": "code",
   "execution_count": 96,
   "metadata": {},
   "outputs": [],
   "source": [
    "def dec2float(value, dec=4):\n",
    "    template = \"{:.\"+str(dec)+\"f}\" \n",
    "    return float(template.format(value))"
   ]
  },
  {
   "cell_type": "code",
   "execution_count": 97,
   "metadata": {
    "scrolled": false
   },
   "outputs": [
    {
     "name": "stdout",
     "output_type": "stream",
     "text": [
      "LR: 0.640895 (std: 0.020584)\n",
      "ROC-AUC train score = 0.82\n",
      "ROC-AUC validation score = 0.64\n",
      "\n"
     ]
    },
    {
     "data": {
      "image/png": "[encoded data removed]",
      "text/plain": [
       "<Figure size 432x288 with 1 Axes>"
      ]
     },
     "metadata": {},
     "output_type": "display_data"
    },
    {
     "name": "stdout",
     "output_type": "stream",
     "text": [
      "RF: 0.577167 (std: 0.031954)\n",
      "ROC-AUC train score = 0.97\n",
      "ROC-AUC validation score = 0.58\n",
      "\n"
     ]
    },
    {
     "data": {
      "image/png": "[encoded data removed]",
      "text/plain": [
       "<Figure size 432x288 with 1 Axes>"
      ]
     },
     "metadata": {},
     "output_type": "display_data"
    },
    {
     "name": "stdout",
     "output_type": "stream",
     "text": [
      "XGB: 0.678916 (std: 0.028972)\n",
      "ROC-AUC train score = 0.99\n",
      "ROC-AUC validation score = 0.68\n",
      "\n"
     ]
    },
    {
     "data": {
      "image/png": "[encoded data removed]",
      "text/plain": [
       "<Figure size 432x288 with 1 Axes>"
      ]
     },
     "metadata": {},
     "output_type": "display_data"
    },
    {
     "name": "stdout",
     "output_type": "stream",
     "text": [
      "LGBM: 0.710863 (std: 0.023605)\n"
     ]
    },
    {
     "name": "stderr",
     "output_type": "stream",
     "text": [
      "/home/hung/anaconda3/lib/python3.7/site-packages/joblib/externals/loky/process_executor.py:691: UserWarning: A worker stopped while some jobs were given to the executor. This can be caused by a too short worker timeout or by a memory leak.\n",
      "  \"timeout or by a memory leak.\", UserWarning\n"
     ]
    },
    {
     "name": "stdout",
     "output_type": "stream",
     "text": [
      "ROC-AUC train score = 0.98\n",
      "ROC-AUC validation score = 0.71\n",
      "\n"
     ]
    },
    {
     "data": {
      "image/png": "[encoded data removed]",
      "text/plain": [
       "<Figure size 432x288 with 1 Axes>"
      ]
     },
     "metadata": {},
     "output_type": "display_data"
    },
    {
     "name": "stdout",
     "output_type": "stream",
     "text": [
      "GB: 0.753174 (std: 0.021035)\n",
      "ROC-AUC train score = 0.91\n",
      "ROC-AUC validation score = 0.75\n",
      "\n"
     ]
    },
    {
     "data": {
      "image/png": "[encoded data removed]",
      "text/plain": [
       "<Figure size 432x288 with 1 Axes>"
      ]
     },
     "metadata": {},
     "output_type": "display_data"
    },
    {
     "name": "stdout",
     "output_type": "stream",
     "text": [
      "MLP: 0.596191 (std: 0.022477)\n",
      "ROC-AUC train score = 0.99\n",
      "ROC-AUC validation score = 0.6\n",
      "\n"
     ]
    },
    {
     "data": {
      "image/png": "[encoded data removed]",
      "text/plain": [
       "<Figure size 432x288 with 1 Axes>"
      ]
     },
     "metadata": {},
     "output_type": "display_data"
    },
    {
     "data": {
      "text/html": [
       "<div>\n",
       "<style scoped>\n",
       "    .dataframe tbody tr th:only-of-type {\n",
       "        vertical-align: middle;\n",
       "    }\n",
       "\n",
       "    .dataframe tbody tr th {\n",
       "        vertical-align: top;\n",
       "    }\n",
       "\n",
       "    .dataframe thead th {\n",
       "        text-align: right;\n",
       "    }\n",
       "</style>\n",
       "<table border=\"1\" class=\"dataframe\">\n",
       "  <thead>\n",
       "    <tr style=\"text-align: right;\">\n",
       "      <th></th>\n",
       "      <th>Model</th>\n",
       "      <th>Score</th>\n",
       "    </tr>\n",
       "  </thead>\n",
       "  <tbody>\n",
       "    <tr>\n",
       "      <th>0</th>\n",
       "      <td>LR</td>\n",
       "      <td>0.6409</td>\n",
       "    </tr>\n",
       "    <tr>\n",
       "      <th>1</th>\n",
       "      <td>RF</td>\n",
       "      <td>0.5772</td>\n",
       "    </tr>\n",
       "    <tr>\n",
       "      <th>2</th>\n",
       "      <td>XGB</td>\n",
       "      <td>0.6789</td>\n",
       "    </tr>\n",
       "    <tr>\n",
       "      <th>3</th>\n",
       "      <td>LGBM</td>\n",
       "      <td>0.7109</td>\n",
       "    </tr>\n",
       "    <tr>\n",
       "      <th>4</th>\n",
       "      <td>GB</td>\n",
       "      <td>0.7532</td>\n",
       "    </tr>\n",
       "    <tr>\n",
       "      <th>5</th>\n",
       "      <td>MLP</td>\n",
       "      <td>0.5962</td>\n",
       "    </tr>\n",
       "  </tbody>\n",
       "</table>\n",
       "</div>"
      ],
      "text/plain": [
       "  Model   Score\n",
       "0    LR  0.6409\n",
       "1    RF  0.5772\n",
       "2   XGB  0.6789\n",
       "3  LGBM  0.7109\n",
       "4    GB  0.7532\n",
       "5   MLP  0.5962"
      ]
     },
     "execution_count": 97,
     "metadata": {},
     "output_type": "execute_result"
    }
   ],
   "source": [
    "# evaluate and plot result\n",
    "models = get_base_models()\n",
    "model_names, results = evaluate(mailout_train_cleaned_scaled, label, models, curve=True)\n",
    "\n",
    "# summary\n",
    "def dec2float(value, dec=4):\n",
    "    template = \"{:.\"+str(dec)+\"f}\" \n",
    "    return float(template.format(value))\n",
    "\n",
    "model_scores = [dec2float(result.mean()) for result in results]\n",
    "baseline_score = pd.DataFrame({'Model':model_names, 'Score': model_scores})\n",
    "\n",
    "baseline_score #display dataframe contains baseline score"
   ]
  },
  {
   "cell_type": "markdown",
   "metadata": {},
   "source": [
    "## 2.2. Refinement\n",
    "\n",
    "Given one result, we cannot augue that which method is better. In this project, GB method is used.\n",
    "\n",
    "For parameter tuning, we can use random search to find the optimal set of hyperparameters. Compared to the grid search, this search method is comparatively less costly and more effective. As fully understanding all hyperparameters are out of the scope of this project, the main four parameters to do tuning includes: n_estimators, learning_rate, subsample, and max_depth. "
   ]
  },
  {
   "cell_type": "code",
   "execution_count": 98,
   "metadata": {},
   "outputs": [],
   "source": [
    "from scipy import stats\n",
    "\n",
    "# define models and parameters\n",
    "gb_model = GradientBoostingClassifier()\n",
    "\n",
    "# define models and parameters\n",
    "parameters = {\n",
    "    'n_estimators' : stats.randint(50, 500),\n",
    "    'learning_rate': stats.loguniform(0.001, 1.0), # (0.001, 1.0, 'log-uniform'),\n",
    "    'subsample'    : stats.uniform(0.5, 1.0),\n",
    "    'max_depth'    : stats.randint(4, 10)\n",
    "}\n",
    "\n",
    "# define cross-validation generator\n",
    "skf = StratifiedKFold(n_splits=5, shuffle=True, random_state=SEED)"
   ]
  },
  {
   "cell_type": "code",
   "execution_count": 99,
   "metadata": {},
   "outputs": [],
   "source": [
    "from sklearn.model_selection import RandomizedSearchCV\n",
    "\n",
    "# setup parameters\n",
    "random_search = RandomizedSearchCV(\n",
    "    estimator = gb_model, \n",
    "    param_distributions = parameters, \n",
    "    cv = skf, \n",
    "    n_iter = 20, \n",
    "    scoring='roc_auc', \n",
    "    n_jobs=-1, \n",
    "    verbose=0\n",
    ")"
   ]
  },
  {
   "cell_type": "code",
   "execution_count": 100,
   "metadata": {},
   "outputs": [
    {
     "name": "stdout",
     "output_type": "stream",
     "text": [
      "CPU times: user 58.7 s, sys: 1.27 s, total: 60 s\n",
      "Wall time: 24min 29s\n"
     ]
    },
    {
     "data": {
      "text/plain": [
       "RandomizedSearchCV(cv=StratifiedKFold(n_splits=5, random_state=30, shuffle=True),\n",
       "                   estimator=GradientBoostingClassifier(), n_iter=20, n_jobs=-1,\n",
       "                   param_distributions={'learning_rate': <scipy.stats._distn_infrastructure.rv_frozen object at 0x7f7c683518d0>,\n",
       "                                        'max_depth': <scipy.stats._distn_infrastructure.rv_frozen object at 0x7f7c68398bd0>,\n",
       "                                        'n_estimators': <scipy.stats._distn_infrastructure.rv_frozen object at 0x7f7c6839ff50>,\n",
       "                                        'subsample': <scipy.stats._distn_infrastructure.rv_frozen object at 0x7f7c68398710>},\n",
       "                   scoring='roc_auc')"
      ]
     },
     "execution_count": 100,
     "metadata": {},
     "output_type": "execute_result"
    }
   ],
   "source": [
    "%%time\n",
    "random_search.fit(mailout_train_cleaned_scaled, label)"
   ]
  },
  {
   "cell_type": "code",
   "execution_count": 101,
   "metadata": {},
   "outputs": [
    {
     "name": "stdout",
     "output_type": "stream",
     "text": [
      "\n",
      " Best estimator:\n",
      "GradientBoostingClassifier(learning_rate=0.01198968914398581, max_depth=5,\n",
      "                           n_estimators=119, subsample=0.6648638098977245)\n",
      "\n",
      " Best score:\n",
      "0.7594234654457788\n"
     ]
    }
   ],
   "source": [
    "print('\\n Best estimator:')\n",
    "print(random_search.best_estimator_)\n",
    "\n",
    "print('\\n Best score:')\n",
    "print(random_search.best_score_ )"
   ]
  },
  {
   "cell_type": "code",
   "execution_count": 104,
   "metadata": {},
   "outputs": [
    {
     "data": {
      "text/plain": [
       "['model/best_model.save']"
      ]
     },
     "execution_count": 104,
     "metadata": {},
     "output_type": "execute_result"
    }
   ],
   "source": [
    "import joblib\n",
    "joblib.dump(best_model, 'model/best_model.save')"
   ]
  },
  {
   "cell_type": "markdown",
   "metadata": {},
   "source": [
    "## Part 3: Kaggle Competition\n",
    "\n",
    "Now that you've created a model to predict which individuals are most likely to respond to a mailout campaign, it's time to test that model in competition through Kaggle. If you click on the link [here](http://www.kaggle.com/t/21e6d45d4c574c7fa2d868f0e8c83140), you'll be taken to the competition page where, if you have a Kaggle account, you can enter. If you're one of the top performers, you may have the chance to be contacted by a hiring manager from Arvato or Bertelsmann for an interview!\n",
    "\n",
    "Your entry to the competition should be a CSV file with two columns. The first column should be a copy of \"LNR\", which acts as an ID number for each individual in the \"TEST\" partition. The second column, \"RESPONSE\", should be some measure of how likely each individual became a customer – this might not be a straightforward probability. As you should have found in Part 2, there is a large output class imbalance, where most individuals did not respond to the mailout. Thus, predicting individual classes and using accuracy does not seem to be an appropriate performance evaluation method. Instead, the competition will be using AUC to evaluate performance. The exact values of the \"RESPONSE\" column do not matter as much: only that the higher values try to capture as many of the actual customers as possible, early in the ROC curve sweep."
   ]
  },
  {
   "cell_type": "code",
   "execution_count": 105,
   "metadata": {},
   "outputs": [
    {
     "data": {
      "text/plain": [
       "GradientBoostingClassifier(learning_rate=0.01198968914398581, max_depth=5,\n",
       "                           n_estimators=119, subsample=0.6648638098977245)"
      ]
     },
     "execution_count": 105,
     "metadata": {},
     "output_type": "execute_result"
    }
   ],
   "source": [
    "best_model.fit(mailout_train_cleaned_scaled, label)"
   ]
  },
  {
   "cell_type": "code",
   "execution_count": 106,
   "metadata": {},
   "outputs": [],
   "source": [
    "preds = best_model.predict_proba(mailout_test_cleaned_scaled)[:,1]"
   ]
  },
  {
   "cell_type": "code",
   "execution_count": 107,
   "metadata": {
    "scrolled": true
   },
   "outputs": [
    {
     "data": {
      "text/html": [
       "<div>\n",
       "<style scoped>\n",
       "    .dataframe tbody tr th:only-of-type {\n",
       "        vertical-align: middle;\n",
       "    }\n",
       "\n",
       "    .dataframe tbody tr th {\n",
       "        vertical-align: top;\n",
       "    }\n",
       "\n",
       "    .dataframe thead th {\n",
       "        text-align: right;\n",
       "    }\n",
       "</style>\n",
       "<table border=\"1\" class=\"dataframe\">\n",
       "  <thead>\n",
       "    <tr style=\"text-align: right;\">\n",
       "      <th></th>\n",
       "      <th>RESPONSE</th>\n",
       "    </tr>\n",
       "    <tr>\n",
       "      <th>LNR</th>\n",
       "      <th></th>\n",
       "    </tr>\n",
       "  </thead>\n",
       "  <tbody>\n",
       "    <tr>\n",
       "      <th>1754</th>\n",
       "      <td>0.025242</td>\n",
       "    </tr>\n",
       "    <tr>\n",
       "      <th>1770</th>\n",
       "      <td>0.027501</td>\n",
       "    </tr>\n",
       "    <tr>\n",
       "      <th>1465</th>\n",
       "      <td>0.005243</td>\n",
       "    </tr>\n",
       "    <tr>\n",
       "      <th>1470</th>\n",
       "      <td>0.007233</td>\n",
       "    </tr>\n",
       "    <tr>\n",
       "      <th>1478</th>\n",
       "      <td>0.006807</td>\n",
       "    </tr>\n",
       "  </tbody>\n",
       "</table>\n",
       "</div>"
      ],
      "text/plain": [
       "      RESPONSE\n",
       "LNR           \n",
       "1754  0.025242\n",
       "1770  0.027501\n",
       "1465  0.005243\n",
       "1470  0.007233\n",
       "1478  0.006807"
      ]
     },
     "execution_count": 107,
     "metadata": {},
     "output_type": "execute_result"
    }
   ],
   "source": [
    "# create submission file\n",
    "kaggle_sub = pd.DataFrame(index=mailout_test['LNR'].astype('int32'), data=preds)\n",
    "kaggle_sub.rename(columns={0: \"RESPONSE\"}, inplace=True)\n",
    "kaggle_sub.head()"
   ]
  },
  {
   "cell_type": "code",
   "execution_count": 108,
   "metadata": {},
   "outputs": [],
   "source": [
    "kaggle_sub.to_csv('kaggle_submission.csv')"
   ]
  }
 ],
 "metadata": {
  "kernelspec": {
   "display_name": "Python 3",
   "language": "python",
   "name": "python3"
  },
  "language_info": {
   "codemirror_mode": {
    "name": "ipython",
    "version": 3
   },
   "file_extension": ".py",
   "mimetype": "text/x-python",
   "name": "python",
   "nbconvert_exporter": "python",
   "pygments_lexer": "ipython3",
   "version": "3.7.6"
  }
 },
 "nbformat": 4,
 "nbformat_minor": 4
}
